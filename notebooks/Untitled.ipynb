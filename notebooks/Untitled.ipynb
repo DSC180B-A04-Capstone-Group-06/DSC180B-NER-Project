{
 "cells": [
  {
   "cell_type": "code",
   "execution_count": 28,
   "metadata": {},
   "outputs": [],
   "source": [
    "import pandas as pd\n",
    "import os\n",
    "import numpy as np"
   ]
  },
  {
   "cell_type": "code",
   "execution_count": 29,
   "metadata": {},
   "outputs": [
    {
     "data": {
      "text/plain": [
       "['business', 'entertainment', 'politics', 'sport', 'tech']"
      ]
     },
     "execution_count": 29,
     "metadata": {},
     "output_type": "execute_result"
    }
   ],
   "source": [
    "data_folder = \"../data/raw/BBC News Summary/News Articles/\"\n",
    "entries = os.listdir(data_folder)\n",
    "entries"
   ]
  },
  {
   "cell_type": "code",
   "execution_count": 30,
   "metadata": {},
   "outputs": [],
   "source": [
    "all_data = {}\n",
    "for i in entries:\n",
    "    temp = []\n",
    "    folder_path = data_folder + i +'/'\n",
    "    file_lst = os.listdir(folder_path)\n",
    "    for j in file_lst:\n",
    "        if j != '.ipynb_checkpoints':\n",
    "            with open(folder_path +j, 'r', errors='ignore') as file:\n",
    "                temp.append(file.read().replace('\\n', ''))\n",
    "    all_data[i] = temp"
   ]
  },
  {
   "cell_type": "code",
   "execution_count": 31,
   "metadata": {},
   "outputs": [],
   "source": [
    "summary_folder = \"../data/raw/BBC News Summary/Summaries/\"\n",
    "summary_entries = os.listdir(data_folder)\n",
    "all_sum = {}\n",
    "for i in entries:\n",
    "    temp = []\n",
    "    folder_path = summary_folder + i +'/'\n",
    "    file_lst = os.listdir(folder_path)\n",
    "    for j in file_lst:\n",
    "        if j != '.ipynb_checkpoints':\n",
    "            with open(folder_path +j, 'r', errors='ignore') as file:\n",
    "                temp.append(file.read().replace('\\n', ''))\n",
    "    all_sum[i] = temp"
   ]
  },
  {
   "cell_type": "code",
   "execution_count": null,
   "metadata": {},
   "outputs": [],
   "source": []
  },
  {
   "cell_type": "code",
   "execution_count": 21,
   "metadata": {},
   "outputs": [],
   "source": [
    "total_df = pd.DataFrame()\n",
    "test_df = pd.DataFrame()\n",
    "for i in np.arange(len(entries)):\n",
    "    if i == 0:\n",
    "        total_df = pd.DataFrame.from_dict(all_data['business'])\n",
    "        total_df['type'] = 'business'\n",
    "        total_df['summary'] = all_sum['business']\n",
    "        total_df['type_code'] = i+1\n",
    "        \n",
    "        \n",
    "        index = np.random.choice(total_df.shape[0],10)\n",
    "        test_df = total_df.loc[index]\n",
    "    else:\n",
    "        temp_df = pd.DataFrame.from_dict(all_data[entries[i]])\n",
    "        temp_df['type'] = entries[i]\n",
    "        temp_df['summary'] = all_sum[entries[i]]\n",
    "        temp_df['type_code'] = i+1\n",
    "        total_df =pd.concat([total_df, temp_df], axis=0)\n",
    "        \n",
    "        index = np.random.choice(temp_df.shape[0], 10)\n",
    "        temp_test_df = temp_df.loc[index]\n",
    "        test_df =pd.concat([test_df,temp_test_df] , axis=0) \n",
    "        \n",
    "total_df.columns = ['text','type','summary','type_code']\n",
    "total_df = total_df.reset_index(drop = True)\n",
    "total_df.to_csv('../data/temp/all_data.csv')"
   ]
  },
  {
   "cell_type": "code",
   "execution_count": 22,
   "metadata": {},
   "outputs": [
    {
     "data": {
      "text/plain": [
       "2225"
      ]
     },
     "execution_count": 22,
     "metadata": {},
     "output_type": "execute_result"
    }
   ],
   "source": [
    "total_df.shape[0]"
   ]
  },
  {
   "cell_type": "code",
   "execution_count": 24,
   "metadata": {},
   "outputs": [],
   "source": [
    "test_df.columns = ['text','type','summary','type_code']\n",
    "test_df = test_df.reset_index(drop = True)\n",
    "test_df.head()\n",
    "test_df.to_csv('../data/temp/test.csv')"
   ]
  },
  {
   "cell_type": "code",
   "execution_count": 25,
   "metadata": {},
   "outputs": [
    {
     "data": {
      "text/plain": [
       "50"
      ]
     },
     "execution_count": 25,
     "metadata": {},
     "output_type": "execute_result"
    }
   ],
   "source": [
    "test_df.shape[0]"
   ]
  },
  {
   "cell_type": "code",
   "execution_count": 26,
   "metadata": {},
   "outputs": [],
   "source": [
    "data_folder = \"../data/raw/BBC News Summary/News Articles/\"\n",
    "entries = os.listdir('../data/raw/BBC News Summary/News Articles/')"
   ]
  },
  {
   "cell_type": "code",
   "execution_count": 32,
   "metadata": {},
   "outputs": [],
   "source": [
    "temp = \"../data/raw/BBC News Summary\""
   ]
  },
  {
   "cell_type": "code",
   "execution_count": 36,
   "metadata": {},
   "outputs": [
    {
     "ename": "ImportError",
     "evalue": "attempted relative import with no known parent package",
     "output_type": "error",
     "traceback": [
      "\u001b[1;31m---------------------------------------------------------------------------\u001b[0m",
      "\u001b[1;31mImportError\u001b[0m                               Traceback (most recent call last)",
      "\u001b[1;32m<ipython-input-36-c92dbd11c840>\u001b[0m in \u001b[0;36m<module>\u001b[1;34m\u001b[0m\n\u001b[1;32m----> 1\u001b[1;33m \u001b[1;32mfrom\u001b[0m \u001b[1;33m.\u001b[0m\u001b[1;33m.\u001b[0m\u001b[0msrc\u001b[0m\u001b[1;33m.\u001b[0m\u001b[0mpreprocessing\u001b[0m \u001b[1;32mimport\u001b[0m \u001b[0mgenerate_df_testdf\u001b[0m\u001b[1;33m\u001b[0m\u001b[1;33m\u001b[0m\u001b[0m\n\u001b[0m",
      "\u001b[1;31mImportError\u001b[0m: attempted relative import with no known parent package"
     ]
    }
   ],
   "source": [
    "from ..src.preprocessing import generate_df_testdf"
   ]
  },
  {
   "cell_type": "code",
   "execution_count": null,
   "metadata": {},
   "outputs": [],
   "source": []
  }
 ],
 "metadata": {
  "kernelspec": {
   "display_name": "Python 3",
   "language": "python",
   "name": "python3"
  },
  "language_info": {
   "codemirror_mode": {
    "name": "ipython",
    "version": 3
   },
   "file_extension": ".py",
   "mimetype": "text/x-python",
   "name": "python",
   "nbconvert_exporter": "python",
   "pygments_lexer": "ipython3",
   "version": "3.7.6"
  }
 },
 "nbformat": 4,
 "nbformat_minor": 4
}
