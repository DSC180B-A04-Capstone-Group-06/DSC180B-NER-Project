{
 "cells": [
  {
   "cell_type": "code",
   "execution_count": 39,
   "metadata": {},
   "outputs": [],
   "source": [
    "import pandas as pd\n",
    "import os\n",
    "import numpy as np\n",
    "from sklearn.datasets import fetch_20newsgroups\n",
    "import json\n",
    "\n",
    "\n",
    "\n",
    "from sklearn.datasets import fetch_20newsgroups\n",
    "\n",
    "from sklearn.feature_extraction.text import CountVectorizer\n",
    "from sklearn.model_selection import train_test_split\n",
    "from sklearn.feature_extraction.text import TfidfTransformer\n",
    "\n",
    "from sklearn.linear_model import SGDClassifier\n",
    "from sklearn.linear_model import LogisticRegression\n",
    "from sklearn.pipeline import Pipeline\n",
    "\n",
    "import re\n",
    "\n",
    "from sklearn.linear_model import SGDClassifier\n",
    "\n",
    "from sklearn import metrics\n",
    "\n",
    "from sklearn.ensemble import VotingClassifier"
   ]
  },
  {
   "cell_type": "code",
   "execution_count": 2,
   "metadata": {},
   "outputs": [],
   "source": [
    "def regex_condi(string):\n",
    "    if \".com\" in string:\n",
    "        return False\n",
    "    if \".edu\" in string:\n",
    "        return False\n",
    "    if \"@\" in string:\n",
    "        return False\n",
    "    if 'Host'in string:\n",
    "        return False\n",
    "    if \".gov\" in string:\n",
    "        return False\n",
    "\n",
    "    return True\n",
    "\n",
    "def clean_text(string):\n",
    "    string = \" \".join([i for i in string.split() if regex_condi(i)])\n",
    "    string = re.sub(r\"Re:\",\"\", string)\n",
    "    string = re.sub(r\"Reply-To:\",\"\", string)\n",
    "    toreturn = string.strip()\n",
    "    return toreturn"
   ]
  },
  {
   "cell_type": "code",
   "execution_count": 3,
   "metadata": {},
   "outputs": [],
   "source": [
    "newsgroups_train = fetch_20newsgroups(subset='train')\n",
    "newsgroups_test = fetch_20newsgroups(subset='test')\n",
    "\n",
    "newsgroups_train_X,newsgroups_train_y = newsgroups_train.data, newsgroups_train.target\n",
    "newsgroups_val_X, newsgroups_test_X, newsgroups_val_y, newsgroups_test_y = train_test_split(newsgroups_test.data, newsgroups_test.target, test_size=0.5, random_state=42)\n",
    "\n",
    "\n",
    "# Clean train \n",
    "newsgroups_train_X = [clean_text(i) for i in newsgroups_train_X]\n",
    "newsgroups_val_X = [clean_text(i) for i in newsgroups_val_X]\n",
    "newsgroups_test_X =  [clean_text(i) for i in newsgroups_test_X]"
   ]
  },
  {
   "cell_type": "code",
   "execution_count": 4,
   "metadata": {},
   "outputs": [
    {
     "data": {
      "text/plain": [
       "False"
      ]
     },
     "execution_count": 4,
     "metadata": {},
     "output_type": "execute_result"
    }
   ],
   "source": []
  },
  {
   "cell_type": "code",
   "execution_count": 134,
   "metadata": {},
   "outputs": [],
   "source": [
    "def BoG_model(X,y, clf = 'Logistic', vocab = None, combining = False):\n",
    "    \"\"\"\n",
    "    This function take in training data as X, y. \n",
    "    Then the data will be processed with BagOfWord, then feed into the Logistic / SGD Classifier.\n",
    "\n",
    "    Return:\n",
    "        pipe: The fitted Logistic Classifier.\n",
    "    \"\"\"\n",
    "    if vocab is None:\n",
    "        if clf == 'Logistic':\n",
    "            pipe = Pipeline([\n",
    "               ('BagOfWord', CountVectorizer()),\n",
    "               ('clasiffier', LogisticRegression())\n",
    "               ])\n",
    "        if clf == 'SVM':\n",
    "            pipe = Pipeline([\n",
    "               ('BagOfWord', CountVectorizer()),\n",
    "               ('clasiffier', SGDClassifier())\n",
    "               ])\n",
    "    else:\n",
    "        if combining == True:\n",
    "            count_vect = CountVectorizer().fit(X)   \n",
    "            vocab_lst = np.unique(list(count_vect.vocabulary_) + list(vocab))\n",
    "        if combining == False:\n",
    "            vocab_lst = vocab\n",
    "            \n",
    "        if clf == 'Logistic':\n",
    "            pipe = Pipeline([\n",
    "               ('BagOfWord', CountVectorizer(vocabulary =vocab_lst)),\n",
    "               ('clasiffier', LogisticRegression())\n",
    "               ])\n",
    "        if clf == 'SVM':\n",
    "            pipe = Pipeline([\n",
    "               ('BagOfWord', CountVectorizer(vocabulary =vocab_lst)),\n",
    "               ('clasiffier', SGDClassifier())\n",
    "               ])\n",
    "    pipe.fit(X, y)\n",
    "    return pipe\n",
    "\n",
    "def Tfidf_model(X,y, clf = 'Logistic', vocab = None, combining = False):\n",
    "\n",
    "    \"\"\"\n",
    "    This function take in training data as X, y. \n",
    "    Then the data will be processed with BagOfWord and Tf-Idf, then feed into the Logistic Classifier.\n",
    "\n",
    "    Return:\n",
    "        pipe: The fitted Logistic Classifier.\n",
    "    \"\"\"\n",
    "    if vocab is None:\n",
    "        if clf == 'Logistic':\n",
    "            pipe = Pipeline([\n",
    "                ('BagOfWord', CountVectorizer()),\n",
    "                ('TfIdf',TfidfTransformer()),\n",
    "                ('clasiffier', LogisticRegression())\n",
    "                ])\n",
    "        if clf == 'SVM':\n",
    "            pipe = Pipeline([\n",
    "                ('BagOfWord', CountVectorizer()),\n",
    "                ('TfIdf',TfidfTransformer()),\n",
    "                ('clasiffier', SGDClassifier())\n",
    "                ])\n",
    "    else:\n",
    "        if combining == True:\n",
    "            count_vect = CountVectorizer().fit(X)   \n",
    "            vocab_lst = np.unique(list(count_vect.vocabulary_) + list(vocab))\n",
    "        if combining == False:\n",
    "            \n",
    "            vocab_lst = vocab\n",
    "            \n",
    "        if clf == 'Logistic':\n",
    "            pipe = Pipeline([\n",
    "                ('BagOfWord', CountVectorizer(vocabulary =vocab_lst)),\n",
    "                ('TfIdf',TfidfTransformer()),\n",
    "                ('clasiffier', LogisticRegression())\n",
    "                ])\n",
    "        if clf == 'SVM':\n",
    "            pipe = Pipeline([\n",
    "                ('BagOfWord', CountVectorizer(vocabulary =vocab_lst)),\n",
    "                ('TfIdf',TfidfTransformer()),\n",
    "                ('clasiffier', SGDClassifier())\n",
    "                ])\n",
    "    pipe.fit(X, y)\n",
    "    return pipe\n"
   ]
  },
  {
   "cell_type": "code",
   "execution_count": null,
   "metadata": {},
   "outputs": [],
   "source": []
  },
  {
   "cell_type": "code",
   "execution_count": 6,
   "metadata": {},
   "outputs": [
    {
     "name": "stderr",
     "output_type": "stream",
     "text": [
      "C:\\Users\\Yang Li\\Anaconda3\\lib\\site-packages\\sklearn\\linear_model\\_logistic.py:940: ConvergenceWarning: lbfgs failed to converge (status=1):\n",
      "STOP: TOTAL NO. of ITERATIONS REACHED LIMIT.\n",
      "\n",
      "Increase the number of iterations (max_iter) or scale the data as shown in:\n",
      "    https://scikit-learn.org/stable/modules/preprocessing.html\n",
      "Please also refer to the documentation for alternative solver options:\n",
      "    https://scikit-learn.org/stable/modules/linear_model.html#logistic-regression\n",
      "  extra_warning_msg=_LOGISTIC_SOLVER_CONVERGENCE_MSG)\n"
     ]
    },
    {
     "data": {
      "text/plain": [
       "0.7774827403080191"
      ]
     },
     "execution_count": 6,
     "metadata": {},
     "output_type": "execute_result"
    }
   ],
   "source": [
    "Log_Count_clf = BoG_model(newsgroups_train_X, newsgroups_train_y)\n",
    "predicted = Log_Count_clf.predict(newsgroups_val_X)\n",
    "np.mean(predicted == newsgroups_val_y)"
   ]
  },
  {
   "cell_type": "code",
   "execution_count": 7,
   "metadata": {},
   "outputs": [
    {
     "name": "stdout",
     "output_type": "stream",
     "text": [
      "                          precision    recall  f1-score   support\n",
      "\n",
      "             alt.atheism       0.67      0.68      0.68       161\n",
      "           comp.graphics       0.67      0.75      0.71       189\n",
      " comp.os.ms-windows.misc       0.73      0.66      0.69       197\n",
      "comp.sys.ibm.pc.hardware       0.71      0.69      0.70       196\n",
      "   comp.sys.mac.hardware       0.75      0.79      0.77       196\n",
      "          comp.windows.x       0.77      0.71      0.74       202\n",
      "            misc.forsale       0.81      0.85      0.83       206\n",
      "               rec.autos       0.80      0.85      0.83       189\n",
      "         rec.motorcycles       0.90      0.90      0.90       194\n",
      "      rec.sport.baseball       0.87      0.86      0.87       192\n",
      "        rec.sport.hockey       0.91      0.89      0.90       203\n",
      "               sci.crypt       0.91      0.86      0.88       194\n",
      "         sci.electronics       0.68      0.72      0.70       197\n",
      "                 sci.med       0.73      0.73      0.73       196\n",
      "               sci.space       0.84      0.89      0.87       191\n",
      "  soc.religion.christian       0.77      0.86      0.82       211\n",
      "      talk.politics.guns       0.70      0.86      0.77       188\n",
      "   talk.politics.mideast       0.95      0.76      0.84       185\n",
      "      talk.politics.misc       0.73      0.53      0.61       152\n",
      "      talk.religion.misc       0.58      0.54      0.56       127\n",
      "\n",
      "                accuracy                           0.78      3766\n",
      "               macro avg       0.78      0.77      0.77      3766\n",
      "            weighted avg       0.78      0.78      0.78      3766\n",
      "\n"
     ]
    }
   ],
   "source": [
    "print(metrics.classification_report(newsgroups_val_y, predicted,target_names=newsgroups_train.target_names))"
   ]
  },
  {
   "cell_type": "code",
   "execution_count": 8,
   "metadata": {},
   "outputs": [
    {
     "data": {
      "text/plain": [
       "17952"
      ]
     },
     "execution_count": 8,
     "metadata": {},
     "output_type": "execute_result"
    }
   ],
   "source": [
    "Log_Count_clf['BagOfWord'].vocabulary_.get(u'algorithm')"
   ]
  },
  {
   "cell_type": "code",
   "execution_count": null,
   "metadata": {},
   "outputs": [],
   "source": []
  },
  {
   "cell_type": "code",
   "execution_count": 9,
   "metadata": {},
   "outputs": [
    {
     "data": {
      "text/plain": [
       "0.8266064790228359"
      ]
     },
     "execution_count": 9,
     "metadata": {},
     "output_type": "execute_result"
    }
   ],
   "source": [
    "Log_TFIDF_clf = Tfidf_model(newsgroups_train_X, newsgroups_train_y)\n",
    "predicted = Log_TFIDF_clf.predict(newsgroups_val_X)\n",
    "np.mean(predicted == newsgroups_val_y)"
   ]
  },
  {
   "cell_type": "code",
   "execution_count": 10,
   "metadata": {},
   "outputs": [
    {
     "name": "stdout",
     "output_type": "stream",
     "text": [
      "                          precision    recall  f1-score   support\n",
      "\n",
      "             alt.atheism       0.71      0.69      0.70       161\n",
      "           comp.graphics       0.73      0.83      0.78       189\n",
      " comp.os.ms-windows.misc       0.77      0.73      0.75       197\n",
      "comp.sys.ibm.pc.hardware       0.73      0.76      0.74       196\n",
      "   comp.sys.mac.hardware       0.84      0.81      0.83       196\n",
      "          comp.windows.x       0.86      0.77      0.81       202\n",
      "            misc.forsale       0.78      0.91      0.84       206\n",
      "               rec.autos       0.88      0.88      0.88       189\n",
      "         rec.motorcycles       0.96      0.93      0.95       194\n",
      "      rec.sport.baseball       0.90      0.95      0.93       192\n",
      "        rec.sport.hockey       0.98      0.93      0.95       203\n",
      "               sci.crypt       0.94      0.90      0.92       194\n",
      "         sci.electronics       0.75      0.82      0.78       197\n",
      "                 sci.med       0.88      0.81      0.85       196\n",
      "               sci.space       0.89      0.94      0.91       191\n",
      "  soc.religion.christian       0.74      0.91      0.81       211\n",
      "      talk.politics.guns       0.72      0.88      0.79       188\n",
      "   talk.politics.mideast       0.97      0.86      0.91       185\n",
      "      talk.politics.misc       0.76      0.60      0.67       152\n",
      "      talk.religion.misc       0.80      0.42      0.55       127\n",
      "\n",
      "                accuracy                           0.83      3766\n",
      "               macro avg       0.83      0.82      0.82      3766\n",
      "            weighted avg       0.83      0.83      0.82      3766\n",
      "\n"
     ]
    }
   ],
   "source": [
    "print(metrics.classification_report(newsgroups_val_y, predicted,target_names=newsgroups_train.target_names))"
   ]
  },
  {
   "cell_type": "code",
   "execution_count": null,
   "metadata": {},
   "outputs": [],
   "source": []
  },
  {
   "cell_type": "code",
   "execution_count": 11,
   "metadata": {},
   "outputs": [
    {
     "data": {
      "text/plain": [
       "0.7461497610196495"
      ]
     },
     "execution_count": 11,
     "metadata": {},
     "output_type": "execute_result"
    }
   ],
   "source": [
    "SVM_Count_clf = BoG_model(newsgroups_train_X, newsgroups_train_y, clf = 'SVM')\n",
    "predicted = SVM_Count_clf.predict(newsgroups_val_X)\n",
    "np.mean(predicted == newsgroups_val_y)"
   ]
  },
  {
   "cell_type": "code",
   "execution_count": 12,
   "metadata": {},
   "outputs": [
    {
     "name": "stdout",
     "output_type": "stream",
     "text": [
      "                          precision    recall  f1-score   support\n",
      "\n",
      "             alt.atheism       0.66      0.75      0.70       161\n",
      "           comp.graphics       0.58      0.77      0.66       189\n",
      " comp.os.ms-windows.misc       0.63      0.59      0.61       197\n",
      "comp.sys.ibm.pc.hardware       0.45      0.73      0.55       196\n",
      "   comp.sys.mac.hardware       0.78      0.78      0.78       196\n",
      "          comp.windows.x       0.84      0.72      0.77       202\n",
      "            misc.forsale       0.87      0.73      0.79       206\n",
      "               rec.autos       0.88      0.77      0.82       189\n",
      "         rec.motorcycles       0.86      0.90      0.88       194\n",
      "      rec.sport.baseball       0.92      0.82      0.87       192\n",
      "        rec.sport.hockey       0.93      0.88      0.90       203\n",
      "               sci.crypt       0.86      0.86      0.86       194\n",
      "         sci.electronics       0.74      0.59      0.66       197\n",
      "                 sci.med       0.84      0.72      0.78       196\n",
      "               sci.space       0.89      0.86      0.88       191\n",
      "  soc.religion.christian       0.76      0.77      0.76       211\n",
      "      talk.politics.guns       0.60      0.86      0.70       188\n",
      "   talk.politics.mideast       0.95      0.75      0.84       185\n",
      "      talk.politics.misc       0.66      0.50      0.57       152\n",
      "      talk.religion.misc       0.52      0.43      0.47       127\n",
      "\n",
      "                accuracy                           0.75      3766\n",
      "               macro avg       0.76      0.74      0.74      3766\n",
      "            weighted avg       0.77      0.75      0.75      3766\n",
      "\n"
     ]
    }
   ],
   "source": [
    "print(metrics.classification_report(newsgroups_val_y, predicted,target_names=newsgroups_train.target_names))"
   ]
  },
  {
   "cell_type": "code",
   "execution_count": 13,
   "metadata": {},
   "outputs": [
    {
     "data": {
      "text/plain": [
       "0.8459904407859798"
      ]
     },
     "execution_count": 13,
     "metadata": {},
     "output_type": "execute_result"
    }
   ],
   "source": [
    "SVM_TFIDF_clf = Tfidf_model(newsgroups_train_X, newsgroups_train_y, clf = 'SVM')\n",
    "SVM_TFIDF_clf.fit(newsgroups_train_X, newsgroups_train_y)\n",
    "predicted = SVM_TFIDF_clf.predict(newsgroups_val_X)\n",
    "np.mean(predicted == newsgroups_val_y)"
   ]
  },
  {
   "cell_type": "code",
   "execution_count": 14,
   "metadata": {},
   "outputs": [
    {
     "name": "stdout",
     "output_type": "stream",
     "text": [
      "                          precision    recall  f1-score   support\n",
      "\n",
      "             alt.atheism       0.75      0.76      0.75       161\n",
      "           comp.graphics       0.77      0.84      0.80       189\n",
      " comp.os.ms-windows.misc       0.77      0.73      0.75       197\n",
      "comp.sys.ibm.pc.hardware       0.74      0.77      0.75       196\n",
      "   comp.sys.mac.hardware       0.84      0.85      0.84       196\n",
      "          comp.windows.x       0.90      0.77      0.83       202\n",
      "            misc.forsale       0.87      0.89      0.88       206\n",
      "               rec.autos       0.89      0.88      0.89       189\n",
      "         rec.motorcycles       0.95      0.94      0.95       194\n",
      "      rec.sport.baseball       0.92      0.95      0.94       192\n",
      "        rec.sport.hockey       0.97      0.99      0.98       203\n",
      "               sci.crypt       0.92      0.93      0.92       194\n",
      "         sci.electronics       0.81      0.77      0.79       197\n",
      "                 sci.med       0.89      0.88      0.88       196\n",
      "               sci.space       0.89      0.95      0.92       191\n",
      "  soc.religion.christian       0.77      0.93      0.84       211\n",
      "      talk.politics.guns       0.74      0.94      0.83       188\n",
      "   talk.politics.mideast       0.97      0.87      0.92       185\n",
      "      talk.politics.misc       0.82      0.59      0.69       152\n",
      "      talk.religion.misc       0.72      0.51      0.60       127\n",
      "\n",
      "                accuracy                           0.85      3766\n",
      "               macro avg       0.84      0.84      0.84      3766\n",
      "            weighted avg       0.85      0.85      0.84      3766\n",
      "\n"
     ]
    }
   ],
   "source": [
    "print(metrics.classification_report(newsgroups_val_y, predicted,target_names=newsgroups_train.target_names))"
   ]
  },
  {
   "cell_type": "code",
   "execution_count": null,
   "metadata": {},
   "outputs": [],
   "source": []
  },
  {
   "cell_type": "code",
   "execution_count": null,
   "metadata": {},
   "outputs": [],
   "source": []
  },
  {
   "cell_type": "code",
   "execution_count": 223,
   "metadata": {},
   "outputs": [
    {
     "data": {
      "text/html": [
       "<div>\n",
       "<style scoped>\n",
       "    .dataframe tbody tr th:only-of-type {\n",
       "        vertical-align: middle;\n",
       "    }\n",
       "\n",
       "    .dataframe tbody tr th {\n",
       "        vertical-align: top;\n",
       "    }\n",
       "\n",
       "    .dataframe thead th {\n",
       "        text-align: right;\n",
       "    }\n",
       "</style>\n",
       "<table border=\"1\" class=\"dataframe\">\n",
       "  <thead>\n",
       "    <tr style=\"text-align: right;\">\n",
       "      <th></th>\n",
       "      <th>data</th>\n",
       "      <th>filenames</th>\n",
       "      <th>target_names</th>\n",
       "      <th>target</th>\n",
       "      <th>DESCR</th>\n",
       "    </tr>\n",
       "  </thead>\n",
       "  <tbody>\n",
       "    <tr>\n",
       "      <th>0</th>\n",
       "      <td>From: lerxst@wam.umd.edu (where's my thing)\\nS...</td>\n",
       "      <td>C:\\Users\\Yang Li\\scikit_learn_data\\20news_home...</td>\n",
       "      <td>alt.atheism</td>\n",
       "      <td>7</td>\n",
       "      <td>.</td>\n",
       "    </tr>\n",
       "    <tr>\n",
       "      <th>1</th>\n",
       "      <td>From: guykuo@carson.u.washington.edu (Guy Kuo)...</td>\n",
       "      <td>C:\\Users\\Yang Li\\scikit_learn_data\\20news_home...</td>\n",
       "      <td>comp.graphics</td>\n",
       "      <td>4</td>\n",
       "      <td>.</td>\n",
       "    </tr>\n",
       "    <tr>\n",
       "      <th>2</th>\n",
       "      <td>From: twillis@ec.ecn.purdue.edu (Thomas E Will...</td>\n",
       "      <td>C:\\Users\\Yang Li\\scikit_learn_data\\20news_home...</td>\n",
       "      <td>comp.os.ms-windows.misc</td>\n",
       "      <td>4</td>\n",
       "      <td></td>\n",
       "    </tr>\n",
       "    <tr>\n",
       "      <th>3</th>\n",
       "      <td>From: jgreen@amber (Joe Green)\\nSubject: Re: W...</td>\n",
       "      <td>C:\\Users\\Yang Li\\scikit_learn_data\\20news_home...</td>\n",
       "      <td>comp.sys.ibm.pc.hardware</td>\n",
       "      <td>1</td>\n",
       "      <td>_</td>\n",
       "    </tr>\n",
       "    <tr>\n",
       "      <th>4</th>\n",
       "      <td>From: jcm@head-cfa.harvard.edu (Jonathan McDow...</td>\n",
       "      <td>C:\\Users\\Yang Li\\scikit_learn_data\\20news_home...</td>\n",
       "      <td>comp.sys.mac.hardware</td>\n",
       "      <td>14</td>\n",
       "      <td>2</td>\n",
       "    </tr>\n",
       "    <tr>\n",
       "      <th>...</th>\n",
       "      <td>...</td>\n",
       "      <td>...</td>\n",
       "      <td>...</td>\n",
       "      <td>...</td>\n",
       "      <td>...</td>\n",
       "    </tr>\n",
       "    <tr>\n",
       "      <th>11309</th>\n",
       "      <td>From: jim.zisfein@factory.com (Jim Zisfein) \\n...</td>\n",
       "      <td>C:\\Users\\Yang Li\\scikit_learn_data\\20news_home...</td>\n",
       "      <td>None</td>\n",
       "      <td>13</td>\n",
       "      <td>None</td>\n",
       "    </tr>\n",
       "    <tr>\n",
       "      <th>11310</th>\n",
       "      <td>From: ebodin@pearl.tufts.edu\\nSubject: Screen ...</td>\n",
       "      <td>C:\\Users\\Yang Li\\scikit_learn_data\\20news_home...</td>\n",
       "      <td>None</td>\n",
       "      <td>4</td>\n",
       "      <td>None</td>\n",
       "    </tr>\n",
       "    <tr>\n",
       "      <th>11311</th>\n",
       "      <td>From: westes@netcom.com (Will Estes)\\nSubject:...</td>\n",
       "      <td>C:\\Users\\Yang Li\\scikit_learn_data\\20news_home...</td>\n",
       "      <td>None</td>\n",
       "      <td>3</td>\n",
       "      <td>None</td>\n",
       "    </tr>\n",
       "    <tr>\n",
       "      <th>11312</th>\n",
       "      <td>From: steve@hcrlgw (Steven Collins)\\nSubject: ...</td>\n",
       "      <td>C:\\Users\\Yang Li\\scikit_learn_data\\20news_home...</td>\n",
       "      <td>None</td>\n",
       "      <td>1</td>\n",
       "      <td>None</td>\n",
       "    </tr>\n",
       "    <tr>\n",
       "      <th>11313</th>\n",
       "      <td>From: gunning@cco.caltech.edu (Kevin J. Gunnin...</td>\n",
       "      <td>C:\\Users\\Yang Li\\scikit_learn_data\\20news_home...</td>\n",
       "      <td>None</td>\n",
       "      <td>8</td>\n",
       "      <td>None</td>\n",
       "    </tr>\n",
       "  </tbody>\n",
       "</table>\n",
       "<p>11314 rows × 5 columns</p>\n",
       "</div>"
      ],
      "text/plain": [
       "                                                    data  \\\n",
       "0      From: lerxst@wam.umd.edu (where's my thing)\\nS...   \n",
       "1      From: guykuo@carson.u.washington.edu (Guy Kuo)...   \n",
       "2      From: twillis@ec.ecn.purdue.edu (Thomas E Will...   \n",
       "3      From: jgreen@amber (Joe Green)\\nSubject: Re: W...   \n",
       "4      From: jcm@head-cfa.harvard.edu (Jonathan McDow...   \n",
       "...                                                  ...   \n",
       "11309  From: jim.zisfein@factory.com (Jim Zisfein) \\n...   \n",
       "11310  From: ebodin@pearl.tufts.edu\\nSubject: Screen ...   \n",
       "11311  From: westes@netcom.com (Will Estes)\\nSubject:...   \n",
       "11312  From: steve@hcrlgw (Steven Collins)\\nSubject: ...   \n",
       "11313  From: gunning@cco.caltech.edu (Kevin J. Gunnin...   \n",
       "\n",
       "                                               filenames  \\\n",
       "0      C:\\Users\\Yang Li\\scikit_learn_data\\20news_home...   \n",
       "1      C:\\Users\\Yang Li\\scikit_learn_data\\20news_home...   \n",
       "2      C:\\Users\\Yang Li\\scikit_learn_data\\20news_home...   \n",
       "3      C:\\Users\\Yang Li\\scikit_learn_data\\20news_home...   \n",
       "4      C:\\Users\\Yang Li\\scikit_learn_data\\20news_home...   \n",
       "...                                                  ...   \n",
       "11309  C:\\Users\\Yang Li\\scikit_learn_data\\20news_home...   \n",
       "11310  C:\\Users\\Yang Li\\scikit_learn_data\\20news_home...   \n",
       "11311  C:\\Users\\Yang Li\\scikit_learn_data\\20news_home...   \n",
       "11312  C:\\Users\\Yang Li\\scikit_learn_data\\20news_home...   \n",
       "11313  C:\\Users\\Yang Li\\scikit_learn_data\\20news_home...   \n",
       "\n",
       "                   target_names target DESCR  \n",
       "0                   alt.atheism      7     .  \n",
       "1                 comp.graphics      4     .  \n",
       "2       comp.os.ms-windows.misc      4        \n",
       "3      comp.sys.ibm.pc.hardware      1     _  \n",
       "4         comp.sys.mac.hardware     14     2  \n",
       "...                         ...    ...   ...  \n",
       "11309                      None     13  None  \n",
       "11310                      None      4  None  \n",
       "11311                      None      3  None  \n",
       "11312                      None      1  None  \n",
       "11313                      None      8  None  \n",
       "\n",
       "[11314 rows x 5 columns]"
      ]
     },
     "execution_count": 223,
     "metadata": {},
     "output_type": "execute_result"
    }
   ],
   "source": [
    "news_df"
   ]
  },
  {
   "cell_type": "code",
   "execution_count": 15,
   "metadata": {},
   "outputs": [],
   "source": [
    "os.makedirs('../data/temp',exist_ok=True)"
   ]
  },
  {
   "cell_type": "code",
   "execution_count": 16,
   "metadata": {},
   "outputs": [],
   "source": [
    "news_df = pd.DataFrame.from_dict(newsgroups_train,'index').T"
   ]
  },
  {
   "cell_type": "code",
   "execution_count": 17,
   "metadata": {},
   "outputs": [],
   "source": [
    "with open('../data/temp/20news.txt', 'w', encoding='utf-8') as f:\n",
    "    f.write('\\n'.join(news_df.data.apply(lambda x: clean_text(x)+ '.')))"
   ]
  },
  {
   "cell_type": "code",
   "execution_count": null,
   "metadata": {},
   "outputs": [],
   "source": []
  },
  {
   "cell_type": "code",
   "execution_count": 18,
   "metadata": {},
   "outputs": [
    {
     "data": {
      "text/html": [
       "<div>\n",
       "<style scoped>\n",
       "    .dataframe tbody tr th:only-of-type {\n",
       "        vertical-align: middle;\n",
       "    }\n",
       "\n",
       "    .dataframe tbody tr th {\n",
       "        vertical-align: top;\n",
       "    }\n",
       "\n",
       "    .dataframe thead th {\n",
       "        text-align: right;\n",
       "    }\n",
       "</style>\n",
       "<table border=\"1\" class=\"dataframe\">\n",
       "  <thead>\n",
       "    <tr style=\"text-align: right;\">\n",
       "      <th></th>\n",
       "      <th>p</th>\n",
       "      <th>phrase</th>\n",
       "    </tr>\n",
       "  </thead>\n",
       "  <tbody>\n",
       "    <tr>\n",
       "      <th>0</th>\n",
       "      <td>0.988864</td>\n",
       "      <td>george bush</td>\n",
       "    </tr>\n",
       "    <tr>\n",
       "      <th>1</th>\n",
       "      <td>0.987358</td>\n",
       "      <td>red sox</td>\n",
       "    </tr>\n",
       "    <tr>\n",
       "      <th>2</th>\n",
       "      <td>0.986398</td>\n",
       "      <td>attorney general</td>\n",
       "    </tr>\n",
       "    <tr>\n",
       "      <th>3</th>\n",
       "      <td>0.985885</td>\n",
       "      <td>gulf war</td>\n",
       "    </tr>\n",
       "    <tr>\n",
       "      <th>4</th>\n",
       "      <td>0.985655</td>\n",
       "      <td>silicon graphics</td>\n",
       "    </tr>\n",
       "    <tr>\n",
       "      <th>...</th>\n",
       "      <td>...</td>\n",
       "      <td>...</td>\n",
       "    </tr>\n",
       "    <tr>\n",
       "      <th>12030</th>\n",
       "      <td>0.003707</td>\n",
       "      <td>not exactly</td>\n",
       "    </tr>\n",
       "    <tr>\n",
       "      <th>12031</th>\n",
       "      <td>0.003279</td>\n",
       "      <td>can't do</td>\n",
       "    </tr>\n",
       "    <tr>\n",
       "      <th>12032</th>\n",
       "      <td>0.003142</td>\n",
       "      <td>r +</td>\n",
       "    </tr>\n",
       "    <tr>\n",
       "      <th>12033</th>\n",
       "      <td>0.003109</td>\n",
       "      <td>probably not</td>\n",
       "    </tr>\n",
       "    <tr>\n",
       "      <th>12034</th>\n",
       "      <td>0.002878</td>\n",
       "      <td>if you've</td>\n",
       "    </tr>\n",
       "  </tbody>\n",
       "</table>\n",
       "<p>12035 rows × 2 columns</p>\n",
       "</div>"
      ],
      "text/plain": [
       "              p            phrase\n",
       "0      0.988864       george bush\n",
       "1      0.987358           red sox\n",
       "2      0.986398  attorney general\n",
       "3      0.985885          gulf war\n",
       "4      0.985655  silicon graphics\n",
       "...         ...               ...\n",
       "12030  0.003707       not exactly\n",
       "12031  0.003279          can't do\n",
       "12032  0.003142               r +\n",
       "12033  0.003109      probably not\n",
       "12034  0.002878         if you've\n",
       "\n",
       "[12035 rows x 2 columns]"
      ]
     },
     "execution_count": 18,
     "metadata": {},
     "output_type": "execute_result"
    }
   ],
   "source": [
    "df = pd.read_csv('../data/temp/AutoPhrase.txt',error_bad_lines=False, delimiter= '\\t',names = ['p','phrase'])\n",
    "select = df[df.p >= 0.5]\n",
    "df"
   ]
  },
  {
   "cell_type": "code",
   "execution_count": 19,
   "metadata": {},
   "outputs": [],
   "source": [
    "count_vect = CountVectorizer(vocabulary = select.phrase,stop_words = 'english')\n",
    "count_vect = count_vect.fit_transform(newsgroups_train_X)"
   ]
  },
  {
   "cell_type": "code",
   "execution_count": 20,
   "metadata": {},
   "outputs": [
    {
     "name": "stderr",
     "output_type": "stream",
     "text": [
      "C:\\Users\\Yang Li\\Anaconda3\\lib\\site-packages\\sklearn\\linear_model\\_logistic.py:940: ConvergenceWarning: lbfgs failed to converge (status=1):\n",
      "STOP: TOTAL NO. of ITERATIONS REACHED LIMIT.\n",
      "\n",
      "Increase the number of iterations (max_iter) or scale the data as shown in:\n",
      "    https://scikit-learn.org/stable/modules/preprocessing.html\n",
      "Please also refer to the documentation for alternative solver options:\n",
      "    https://scikit-learn.org/stable/modules/linear_model.html#logistic-regression\n",
      "  extra_warning_msg=_LOGISTIC_SOLVER_CONVERGENCE_MSG)\n"
     ]
    },
    {
     "data": {
      "text/plain": [
       "0.7732342007434945"
      ]
     },
     "execution_count": 20,
     "metadata": {},
     "output_type": "execute_result"
    }
   ],
   "source": [
    "auto_Log_Count_clf = BoG_model(newsgroups_train_X, newsgroups_train_y, vocab=select.phrase)\n",
    "predicted = auto_Log_Count_clf.predict(newsgroups_val_X)\n",
    "np.mean(predicted == newsgroups_val_y)"
   ]
  },
  {
   "cell_type": "code",
   "execution_count": 21,
   "metadata": {
    "scrolled": false
   },
   "outputs": [
    {
     "name": "stdout",
     "output_type": "stream",
     "text": [
      "                          precision    recall  f1-score   support\n",
      "\n",
      "             alt.atheism       0.66      0.66      0.66       161\n",
      "           comp.graphics       0.69      0.74      0.71       189\n",
      " comp.os.ms-windows.misc       0.72      0.67      0.69       197\n",
      "comp.sys.ibm.pc.hardware       0.69      0.69      0.69       196\n",
      "   comp.sys.mac.hardware       0.76      0.78      0.77       196\n",
      "          comp.windows.x       0.80      0.71      0.75       202\n",
      "            misc.forsale       0.79      0.84      0.81       206\n",
      "               rec.autos       0.81      0.85      0.83       189\n",
      "         rec.motorcycles       0.89      0.88      0.88       194\n",
      "      rec.sport.baseball       0.89      0.88      0.88       192\n",
      "        rec.sport.hockey       0.95      0.90      0.92       203\n",
      "               sci.crypt       0.89      0.88      0.89       194\n",
      "         sci.electronics       0.65      0.68      0.66       197\n",
      "                 sci.med       0.77      0.75      0.76       196\n",
      "               sci.space       0.86      0.88      0.87       191\n",
      "  soc.religion.christian       0.74      0.85      0.79       211\n",
      "      talk.politics.guns       0.71      0.84      0.77       188\n",
      "   talk.politics.mideast       0.94      0.79      0.86       185\n",
      "      talk.politics.misc       0.65      0.52      0.58       152\n",
      "      talk.religion.misc       0.52      0.52      0.52       127\n",
      "\n",
      "                accuracy                           0.77      3766\n",
      "               macro avg       0.77      0.77      0.77      3766\n",
      "            weighted avg       0.78      0.77      0.77      3766\n",
      "\n"
     ]
    }
   ],
   "source": [
    "print(metrics.classification_report(newsgroups_val_y, predicted,target_names=newsgroups_train.target_names))"
   ]
  },
  {
   "cell_type": "code",
   "execution_count": 22,
   "metadata": {},
   "outputs": [
    {
     "data": {
      "text/plain": [
       "3304"
      ]
     },
     "execution_count": 22,
     "metadata": {},
     "output_type": "execute_result"
    }
   ],
   "source": [
    "auto_Log_Count_clf['BagOfWord'].vocabulary_.get(u'algorithm')"
   ]
  },
  {
   "cell_type": "code",
   "execution_count": 23,
   "metadata": {},
   "outputs": [
    {
     "data": {
      "text/plain": [
       "0.8048327137546468"
      ]
     },
     "execution_count": 23,
     "metadata": {},
     "output_type": "execute_result"
    }
   ],
   "source": [
    "auto_Log_TFIDF_clf = Tfidf_model(newsgroups_train_X, newsgroups_train_y, vocab=select.phrase)\n",
    "predicted = auto_Log_TFIDF_clf.predict(newsgroups_val_X)\n",
    "np.mean(predicted == newsgroups_val_y)"
   ]
  },
  {
   "cell_type": "code",
   "execution_count": 24,
   "metadata": {},
   "outputs": [
    {
     "name": "stdout",
     "output_type": "stream",
     "text": [
      "                          precision    recall  f1-score   support\n",
      "\n",
      "             alt.atheism       0.68      0.68      0.68       161\n",
      "           comp.graphics       0.70      0.79      0.74       189\n",
      " comp.os.ms-windows.misc       0.73      0.73      0.73       197\n",
      "comp.sys.ibm.pc.hardware       0.69      0.72      0.70       196\n",
      "   comp.sys.mac.hardware       0.81      0.79      0.80       196\n",
      "          comp.windows.x       0.85      0.75      0.79       202\n",
      "            misc.forsale       0.82      0.88      0.85       206\n",
      "               rec.autos       0.87      0.84      0.85       189\n",
      "         rec.motorcycles       0.93      0.92      0.93       194\n",
      "      rec.sport.baseball       0.91      0.93      0.92       192\n",
      "        rec.sport.hockey       0.95      0.94      0.95       203\n",
      "               sci.crypt       0.94      0.89      0.91       194\n",
      "         sci.electronics       0.69      0.75      0.72       197\n",
      "                 sci.med       0.83      0.80      0.81       196\n",
      "               sci.space       0.89      0.91      0.90       191\n",
      "  soc.religion.christian       0.71      0.89      0.79       211\n",
      "      talk.politics.guns       0.71      0.90      0.80       188\n",
      "   talk.politics.mideast       0.96      0.83      0.89       185\n",
      "      talk.politics.misc       0.74      0.57      0.64       152\n",
      "      talk.religion.misc       0.67      0.40      0.50       127\n",
      "\n",
      "                accuracy                           0.80      3766\n",
      "               macro avg       0.80      0.79      0.80      3766\n",
      "            weighted avg       0.81      0.80      0.80      3766\n",
      "\n"
     ]
    }
   ],
   "source": [
    "print(metrics.classification_report(newsgroups_val_y, predicted,target_names=newsgroups_train.target_names))"
   ]
  },
  {
   "cell_type": "code",
   "execution_count": null,
   "metadata": {},
   "outputs": [],
   "source": []
  },
  {
   "cell_type": "code",
   "execution_count": 25,
   "metadata": {},
   "outputs": [
    {
     "data": {
      "text/plain": [
       "0.7485395645246946"
      ]
     },
     "execution_count": 25,
     "metadata": {},
     "output_type": "execute_result"
    }
   ],
   "source": [
    "auto_SVM_Count_clf = BoG_model(newsgroups_train_X, newsgroups_train_y, vocab=select.phrase, clf = 'SVM')\n",
    "predicted = auto_SVM_Count_clf.predict(newsgroups_val_X)\n",
    "np.mean(predicted == newsgroups_val_y)"
   ]
  },
  {
   "cell_type": "code",
   "execution_count": 26,
   "metadata": {},
   "outputs": [
    {
     "name": "stdout",
     "output_type": "stream",
     "text": [
      "                          precision    recall  f1-score   support\n",
      "\n",
      "             alt.atheism       0.66      0.66      0.66       161\n",
      "           comp.graphics       0.67      0.76      0.71       189\n",
      " comp.os.ms-windows.misc       0.62      0.62      0.62       197\n",
      "comp.sys.ibm.pc.hardware       0.60      0.58      0.59       196\n",
      "   comp.sys.mac.hardware       0.74      0.77      0.76       196\n",
      "          comp.windows.x       0.77      0.69      0.73       202\n",
      "            misc.forsale       0.71      0.83      0.76       206\n",
      "               rec.autos       0.75      0.82      0.78       189\n",
      "         rec.motorcycles       0.88      0.84      0.86       194\n",
      "      rec.sport.baseball       0.84      0.85      0.84       192\n",
      "        rec.sport.hockey       0.91      0.93      0.92       203\n",
      "               sci.crypt       0.91      0.82      0.86       194\n",
      "         sci.electronics       0.71      0.66      0.68       197\n",
      "                 sci.med       0.80      0.71      0.75       196\n",
      "               sci.space       0.89      0.85      0.87       191\n",
      "  soc.religion.christian       0.70      0.83      0.76       211\n",
      "      talk.politics.guns       0.61      0.88      0.72       188\n",
      "   talk.politics.mideast       0.97      0.78      0.87       185\n",
      "      talk.politics.misc       0.62      0.53      0.57       152\n",
      "      talk.religion.misc       0.63      0.37      0.47       127\n",
      "\n",
      "                accuracy                           0.75      3766\n",
      "               macro avg       0.75      0.74      0.74      3766\n",
      "            weighted avg       0.75      0.75      0.75      3766\n",
      "\n"
     ]
    }
   ],
   "source": [
    "print(metrics.classification_report(newsgroups_val_y, predicted,target_names=newsgroups_train.target_names))"
   ]
  },
  {
   "cell_type": "code",
   "execution_count": 27,
   "metadata": {},
   "outputs": [
    {
     "data": {
      "text/plain": [
       "0.8127987254381307"
      ]
     },
     "execution_count": 27,
     "metadata": {},
     "output_type": "execute_result"
    }
   ],
   "source": [
    "auto_SVM_TFIDF_clf = Tfidf_model(newsgroups_train_X, newsgroups_train_y, vocab=select.phrase, clf = 'SVM')\n",
    "predicted = auto_SVM_TFIDF_clf.predict(newsgroups_val_X)\n",
    "np.mean(predicted == newsgroups_val_y)"
   ]
  },
  {
   "cell_type": "code",
   "execution_count": 28,
   "metadata": {},
   "outputs": [
    {
     "name": "stdout",
     "output_type": "stream",
     "text": [
      "                          precision    recall  f1-score   support\n",
      "\n",
      "             alt.atheism       0.66      0.71      0.68       161\n",
      "           comp.graphics       0.72      0.78      0.75       189\n",
      " comp.os.ms-windows.misc       0.73      0.73      0.73       197\n",
      "comp.sys.ibm.pc.hardware       0.75      0.71      0.73       196\n",
      "   comp.sys.mac.hardware       0.78      0.81      0.79       196\n",
      "          comp.windows.x       0.85      0.75      0.80       202\n",
      "            misc.forsale       0.84      0.87      0.86       206\n",
      "               rec.autos       0.86      0.84      0.85       189\n",
      "         rec.motorcycles       0.92      0.92      0.92       194\n",
      "      rec.sport.baseball       0.94      0.90      0.92       192\n",
      "        rec.sport.hockey       0.93      0.98      0.95       203\n",
      "               sci.crypt       0.90      0.91      0.91       194\n",
      "         sci.electronics       0.74      0.74      0.74       197\n",
      "                 sci.med       0.86      0.82      0.84       196\n",
      "               sci.space       0.88      0.93      0.90       191\n",
      "  soc.religion.christian       0.73      0.91      0.81       211\n",
      "      talk.politics.guns       0.73      0.89      0.80       188\n",
      "   talk.politics.mideast       0.96      0.82      0.88       185\n",
      "      talk.politics.misc       0.78      0.58      0.66       152\n",
      "      talk.religion.misc       0.68      0.48      0.56       127\n",
      "\n",
      "                accuracy                           0.81      3766\n",
      "               macro avg       0.81      0.80      0.80      3766\n",
      "            weighted avg       0.82      0.81      0.81      3766\n",
      "\n"
     ]
    }
   ],
   "source": [
    "print(metrics.classification_report(newsgroups_val_y, predicted,target_names=newsgroups_train.target_names))"
   ]
  },
  {
   "cell_type": "code",
   "execution_count": null,
   "metadata": {},
   "outputs": [],
   "source": []
  },
  {
   "cell_type": "code",
   "execution_count": 29,
   "metadata": {},
   "outputs": [],
   "source": [
    "count_vect = CountVectorizer()\n",
    "X_train_counts = count_vect.fit_transform(newsgroups_train_X)\n",
    "all_vocab = np.unique(list(count_vect.vocabulary_) + list(select.phrase))"
   ]
  },
  {
   "cell_type": "code",
   "execution_count": 30,
   "metadata": {
    "scrolled": true
   },
   "outputs": [
    {
     "name": "stderr",
     "output_type": "stream",
     "text": [
      "C:\\Users\\Yang Li\\Anaconda3\\lib\\site-packages\\sklearn\\linear_model\\_logistic.py:940: ConvergenceWarning: lbfgs failed to converge (status=1):\n",
      "STOP: TOTAL NO. of ITERATIONS REACHED LIMIT.\n",
      "\n",
      "Increase the number of iterations (max_iter) or scale the data as shown in:\n",
      "    https://scikit-learn.org/stable/modules/preprocessing.html\n",
      "Please also refer to the documentation for alternative solver options:\n",
      "    https://scikit-learn.org/stable/modules/linear_model.html#logistic-regression\n",
      "  extra_warning_msg=_LOGISTIC_SOLVER_CONVERGENCE_MSG)\n"
     ]
    },
    {
     "data": {
      "text/plain": [
       "0.7774827403080191"
      ]
     },
     "execution_count": 30,
     "metadata": {},
     "output_type": "execute_result"
    }
   ],
   "source": [
    "all_Log_Count_clf = BoG_model(newsgroups_train_X, newsgroups_train_y, vocab=all_vocab)\n",
    "predicted = all_Log_Count_clf.predict(newsgroups_val_X)\n",
    "np.mean(predicted == newsgroups_val_y)"
   ]
  },
  {
   "cell_type": "code",
   "execution_count": 31,
   "metadata": {},
   "outputs": [
    {
     "name": "stdout",
     "output_type": "stream",
     "text": [
      "                          precision    recall  f1-score   support\n",
      "\n",
      "             alt.atheism       0.64      0.70      0.67       161\n",
      "           comp.graphics       0.68      0.76      0.72       189\n",
      " comp.os.ms-windows.misc       0.74      0.66      0.70       197\n",
      "comp.sys.ibm.pc.hardware       0.70      0.71      0.71       196\n",
      "   comp.sys.mac.hardware       0.75      0.79      0.77       196\n",
      "          comp.windows.x       0.77      0.71      0.74       202\n",
      "            misc.forsale       0.82      0.84      0.83       206\n",
      "               rec.autos       0.79      0.85      0.82       189\n",
      "         rec.motorcycles       0.90      0.90      0.90       194\n",
      "      rec.sport.baseball       0.87      0.86      0.87       192\n",
      "        rec.sport.hockey       0.92      0.89      0.90       203\n",
      "               sci.crypt       0.92      0.86      0.89       194\n",
      "         sci.electronics       0.70      0.71      0.70       197\n",
      "                 sci.med       0.76      0.71      0.73       196\n",
      "               sci.space       0.85      0.90      0.87       191\n",
      "  soc.religion.christian       0.76      0.86      0.80       211\n",
      "      talk.politics.guns       0.70      0.86      0.77       188\n",
      "   talk.politics.mideast       0.95      0.76      0.84       185\n",
      "      talk.politics.misc       0.73      0.54      0.62       152\n",
      "      talk.religion.misc       0.58      0.52      0.55       127\n",
      "\n",
      "                accuracy                           0.78      3766\n",
      "               macro avg       0.78      0.77      0.77      3766\n",
      "            weighted avg       0.78      0.78      0.78      3766\n",
      "\n"
     ]
    }
   ],
   "source": [
    "print(metrics.classification_report(newsgroups_val_y, predicted,target_names=newsgroups_train.target_names))"
   ]
  },
  {
   "cell_type": "code",
   "execution_count": 32,
   "metadata": {},
   "outputs": [
    {
     "data": {
      "text/plain": [
       "0.8266064790228359"
      ]
     },
     "execution_count": 32,
     "metadata": {},
     "output_type": "execute_result"
    }
   ],
   "source": [
    "all_Log_TFIDF_clf = Tfidf_model(newsgroups_train_X, newsgroups_train_y, vocab=all_vocab)\n",
    "predicted = all_Log_TFIDF_clf.predict(newsgroups_val_X)\n",
    "np.mean(predicted == newsgroups_val_y)"
   ]
  },
  {
   "cell_type": "code",
   "execution_count": 33,
   "metadata": {
    "scrolled": true
   },
   "outputs": [
    {
     "name": "stdout",
     "output_type": "stream",
     "text": [
      "                          precision    recall  f1-score   support\n",
      "\n",
      "             alt.atheism       0.71      0.69      0.70       161\n",
      "           comp.graphics       0.73      0.83      0.78       189\n",
      " comp.os.ms-windows.misc       0.77      0.73      0.75       197\n",
      "comp.sys.ibm.pc.hardware       0.73      0.76      0.74       196\n",
      "   comp.sys.mac.hardware       0.84      0.81      0.83       196\n",
      "          comp.windows.x       0.86      0.77      0.81       202\n",
      "            misc.forsale       0.78      0.91      0.84       206\n",
      "               rec.autos       0.88      0.88      0.88       189\n",
      "         rec.motorcycles       0.96      0.93      0.95       194\n",
      "      rec.sport.baseball       0.90      0.95      0.93       192\n",
      "        rec.sport.hockey       0.98      0.93      0.95       203\n",
      "               sci.crypt       0.94      0.90      0.92       194\n",
      "         sci.electronics       0.75      0.82      0.78       197\n",
      "                 sci.med       0.88      0.81      0.85       196\n",
      "               sci.space       0.89      0.94      0.91       191\n",
      "  soc.religion.christian       0.74      0.91      0.81       211\n",
      "      talk.politics.guns       0.72      0.88      0.79       188\n",
      "   talk.politics.mideast       0.97      0.86      0.91       185\n",
      "      talk.politics.misc       0.76      0.60      0.67       152\n",
      "      talk.religion.misc       0.80      0.42      0.55       127\n",
      "\n",
      "                accuracy                           0.83      3766\n",
      "               macro avg       0.83      0.82      0.82      3766\n",
      "            weighted avg       0.83      0.83      0.82      3766\n",
      "\n"
     ]
    }
   ],
   "source": [
    "print(metrics.classification_report(newsgroups_val_y, predicted,target_names=newsgroups_train.target_names))"
   ]
  },
  {
   "cell_type": "code",
   "execution_count": 34,
   "metadata": {},
   "outputs": [
    {
     "data": {
      "text/plain": [
       "0.7565055762081785"
      ]
     },
     "execution_count": 34,
     "metadata": {},
     "output_type": "execute_result"
    }
   ],
   "source": [
    "all_SVM_Count_clf = BoG_model(newsgroups_train_X, newsgroups_train_y, vocab=all_vocab, clf = 'SVM')\n",
    "predicted = all_SVM_Count_clf.predict(newsgroups_val_X)\n",
    "np.mean(predicted == newsgroups_val_y)"
   ]
  },
  {
   "cell_type": "code",
   "execution_count": 35,
   "metadata": {},
   "outputs": [
    {
     "name": "stdout",
     "output_type": "stream",
     "text": [
      "                          precision    recall  f1-score   support\n",
      "\n",
      "             alt.atheism       0.73      0.67      0.70       161\n",
      "           comp.graphics       0.82      0.70      0.76       189\n",
      " comp.os.ms-windows.misc       0.70      0.62      0.66       197\n",
      "comp.sys.ibm.pc.hardware       0.46      0.65      0.54       196\n",
      "   comp.sys.mac.hardware       0.74      0.78      0.76       196\n",
      "          comp.windows.x       0.81      0.71      0.76       202\n",
      "            misc.forsale       0.80      0.79      0.79       206\n",
      "               rec.autos       0.89      0.83      0.86       189\n",
      "         rec.motorcycles       0.83      0.92      0.87       194\n",
      "      rec.sport.baseball       0.90      0.87      0.89       192\n",
      "        rec.sport.hockey       0.93      0.88      0.90       203\n",
      "               sci.crypt       0.73      0.88      0.80       194\n",
      "         sci.electronics       0.53      0.66      0.59       197\n",
      "                 sci.med       0.85      0.74      0.79       196\n",
      "               sci.space       0.88      0.84      0.86       191\n",
      "  soc.religion.christian       0.80      0.77      0.79       211\n",
      "      talk.politics.guns       0.70      0.86      0.77       188\n",
      "   talk.politics.mideast       0.95      0.81      0.87       185\n",
      "      talk.politics.misc       0.72      0.48      0.58       152\n",
      "      talk.religion.misc       0.51      0.52      0.51       127\n",
      "\n",
      "                accuracy                           0.76      3766\n",
      "               macro avg       0.77      0.75      0.75      3766\n",
      "            weighted avg       0.77      0.76      0.76      3766\n",
      "\n"
     ]
    }
   ],
   "source": [
    "print(metrics.classification_report(newsgroups_val_y, predicted,target_names=newsgroups_train.target_names))"
   ]
  },
  {
   "cell_type": "code",
   "execution_count": 36,
   "metadata": {},
   "outputs": [
    {
     "data": {
      "text/plain": [
       "0.847052575677111"
      ]
     },
     "execution_count": 36,
     "metadata": {},
     "output_type": "execute_result"
    }
   ],
   "source": [
    "all_SVM_TFIDF_clf = Tfidf_model(newsgroups_train_X, newsgroups_train_y, vocab=all_vocab, clf = 'SVM')\n",
    "predicted = all_SVM_TFIDF_clf.predict(newsgroups_val_X)\n",
    "np.mean(predicted == newsgroups_val_y)"
   ]
  },
  {
   "cell_type": "code",
   "execution_count": 37,
   "metadata": {},
   "outputs": [
    {
     "name": "stdout",
     "output_type": "stream",
     "text": [
      "                          precision    recall  f1-score   support\n",
      "\n",
      "             alt.atheism       0.76      0.76      0.76       161\n",
      "           comp.graphics       0.77      0.84      0.81       189\n",
      " comp.os.ms-windows.misc       0.76      0.74      0.75       197\n",
      "comp.sys.ibm.pc.hardware       0.77      0.76      0.76       196\n",
      "   comp.sys.mac.hardware       0.84      0.85      0.85       196\n",
      "          comp.windows.x       0.90      0.78      0.83       202\n",
      "            misc.forsale       0.86      0.89      0.88       206\n",
      "               rec.autos       0.89      0.88      0.88       189\n",
      "         rec.motorcycles       0.94      0.94      0.94       194\n",
      "      rec.sport.baseball       0.91      0.95      0.93       192\n",
      "        rec.sport.hockey       0.98      0.99      0.98       203\n",
      "               sci.crypt       0.92      0.91      0.91       194\n",
      "         sci.electronics       0.80      0.78      0.79       197\n",
      "                 sci.med       0.89      0.86      0.88       196\n",
      "               sci.space       0.92      0.96      0.94       191\n",
      "  soc.religion.christian       0.77      0.93      0.84       211\n",
      "      talk.politics.guns       0.73      0.94      0.82       188\n",
      "   talk.politics.mideast       0.96      0.88      0.92       185\n",
      "      talk.politics.misc       0.83      0.60      0.69       152\n",
      "      talk.religion.misc       0.74      0.50      0.60       127\n",
      "\n",
      "                accuracy                           0.85      3766\n",
      "               macro avg       0.85      0.84      0.84      3766\n",
      "            weighted avg       0.85      0.85      0.84      3766\n",
      "\n"
     ]
    }
   ],
   "source": [
    "print(metrics.classification_report(newsgroups_val_y, predicted,target_names=newsgroups_train.target_names))"
   ]
  },
  {
   "cell_type": "code",
   "execution_count": null,
   "metadata": {},
   "outputs": [],
   "source": []
  },
  {
   "cell_type": "code",
   "execution_count": null,
   "metadata": {},
   "outputs": [],
   "source": []
  },
  {
   "cell_type": "code",
   "execution_count": null,
   "metadata": {},
   "outputs": [],
   "source": []
  },
  {
   "cell_type": "code",
   "execution_count": null,
   "metadata": {},
   "outputs": [],
   "source": []
  },
  {
   "cell_type": "code",
   "execution_count": 77,
   "metadata": {},
   "outputs": [
    {
     "data": {
      "text/plain": [
       "['business', 'entertainment', 'politics', 'sport', 'tech']"
      ]
     },
     "execution_count": 77,
     "metadata": {},
     "output_type": "execute_result"
    }
   ],
   "source": [
    "data_folder = \"../data/raw/BBC News Summary/News Articles/\"\n",
    "entries = os.listdir(data_folder)\n",
    "entries"
   ]
  },
  {
   "cell_type": "code",
   "execution_count": 85,
   "metadata": {},
   "outputs": [],
   "source": [
    "bbc_df = pd.read_csv('../data/temp/all_data.csv')[['summary','type_code']]\n",
    "X_train, X_test, y_train, y_test = train_test_split(bbc_df.summary, bbc_df.type_code, test_size=0.4, random_state=42)\n",
    "X_val,X_test,y_val,y_test = train_test_split(X_test, y_test, test_size=0.5, random_state=42)"
   ]
  },
  {
   "cell_type": "code",
   "execution_count": 86,
   "metadata": {},
   "outputs": [
    {
     "name": "stderr",
     "output_type": "stream",
     "text": [
      "C:\\Users\\Yang Li\\Anaconda3\\lib\\site-packages\\sklearn\\linear_model\\_logistic.py:940: ConvergenceWarning: lbfgs failed to converge (status=1):\n",
      "STOP: TOTAL NO. of ITERATIONS REACHED LIMIT.\n",
      "\n",
      "Increase the number of iterations (max_iter) or scale the data as shown in:\n",
      "    https://scikit-learn.org/stable/modules/preprocessing.html\n",
      "Please also refer to the documentation for alternative solver options:\n",
      "    https://scikit-learn.org/stable/modules/linear_model.html#logistic-regression\n",
      "  extra_warning_msg=_LOGISTIC_SOLVER_CONVERGENCE_MSG)\n"
     ]
    },
    {
     "data": {
      "text/plain": [
       "0.9595505617977528"
      ]
     },
     "execution_count": 86,
     "metadata": {},
     "output_type": "execute_result"
    }
   ],
   "source": [
    "Log_Count_clf = BoG_model(X_train, y_train)\n",
    "predicted = Log_Count_clf.predict(X_val)\n",
    "np.mean(predicted == y_val)"
   ]
  },
  {
   "cell_type": "code",
   "execution_count": 87,
   "metadata": {},
   "outputs": [
    {
     "data": {
      "text/plain": [
       "0.9685393258426966"
      ]
     },
     "execution_count": 87,
     "metadata": {},
     "output_type": "execute_result"
    }
   ],
   "source": [
    "Log_TFIDF_clf = Tfidf_model(X_train, y_train)\n",
    "predicted = Log_TFIDF_clf.predict(X_val)\n",
    "np.mean(predicted == y_val)"
   ]
  },
  {
   "cell_type": "code",
   "execution_count": 90,
   "metadata": {},
   "outputs": [
    {
     "data": {
      "text/plain": [
       "0.9550561797752809"
      ]
     },
     "execution_count": 90,
     "metadata": {},
     "output_type": "execute_result"
    }
   ],
   "source": [
    "SVM_Count_clf = BoG_model(X_train, y_train, clf = 'SVM')\n",
    "predicted = SVM_Count_clf.predict(X_val)\n",
    "np.mean(predicted == y_val)"
   ]
  },
  {
   "cell_type": "code",
   "execution_count": 92,
   "metadata": {
    "scrolled": true
   },
   "outputs": [
    {
     "data": {
      "text/plain": [
       "0.9820224719101124"
      ]
     },
     "execution_count": 92,
     "metadata": {},
     "output_type": "execute_result"
    }
   ],
   "source": [
    "SVM_TFIDF_clf = Tfidf_model(X_train, y_train, clf = 'SVM')\n",
    "predicted = SVM_TFIDF_clf.predict(X_val)\n",
    "np.mean(predicted == y_val)"
   ]
  },
  {
   "cell_type": "code",
   "execution_count": 106,
   "metadata": {},
   "outputs": [
    {
     "data": {
      "text/plain": [
       "16243"
      ]
     },
     "execution_count": 106,
     "metadata": {},
     "output_type": "execute_result"
    }
   ],
   "source": [
    "len(SVM_TFIDF_clf['BagOfWord'].vocabulary_)"
   ]
  },
  {
   "cell_type": "code",
   "execution_count": null,
   "metadata": {},
   "outputs": [],
   "source": []
  },
  {
   "cell_type": "code",
   "execution_count": null,
   "metadata": {},
   "outputs": [],
   "source": []
  },
  {
   "cell_type": "code",
   "execution_count": 93,
   "metadata": {},
   "outputs": [],
   "source": [
    "with open('../data/temp/bbc_sum.txt', 'w', encoding='utf-8') as f:\n",
    "    f.write('\\n'.join(bbc_df.summary.apply(lambda x: clean_text(x)+ '.')))"
   ]
  },
  {
   "cell_type": "code",
   "execution_count": null,
   "metadata": {},
   "outputs": [],
   "source": []
  },
  {
   "cell_type": "code",
   "execution_count": 136,
   "metadata": {},
   "outputs": [
    {
     "data": {
      "text/plain": [
       "0      manchester united\n",
       "1           human rights\n",
       "2        australian open\n",
       "3      liberal democrats\n",
       "4               mac mini\n",
       "             ...        \n",
       "936               damage\n",
       "937          responsible\n",
       "938              members\n",
       "939                 fans\n",
       "940                limit\n",
       "Name: phrase, Length: 941, dtype: object"
      ]
     },
     "execution_count": 136,
     "metadata": {},
     "output_type": "execute_result"
    }
   ],
   "source": [
    "df_bbc = pd.read_csv('../data/temp/AutoPhrase_bbc.txt',error_bad_lines=False, delimiter= '\\t',names = ['p','phrase'])\n",
    "select_bbc = df_bbc.phrase[df_bbc.p >= 0.5]\n",
    "select_bbc"
   ]
  },
  {
   "cell_type": "code",
   "execution_count": 120,
   "metadata": {},
   "outputs": [
    {
     "name": "stderr",
     "output_type": "stream",
     "text": [
      "C:\\Users\\Yang Li\\Anaconda3\\lib\\site-packages\\sklearn\\linear_model\\_logistic.py:940: ConvergenceWarning: lbfgs failed to converge (status=1):\n",
      "STOP: TOTAL NO. of ITERATIONS REACHED LIMIT.\n",
      "\n",
      "Increase the number of iterations (max_iter) or scale the data as shown in:\n",
      "    https://scikit-learn.org/stable/modules/preprocessing.html\n",
      "Please also refer to the documentation for alternative solver options:\n",
      "    https://scikit-learn.org/stable/modules/linear_model.html#logistic-regression\n",
      "  extra_warning_msg=_LOGISTIC_SOLVER_CONVERGENCE_MSG)\n"
     ]
    },
    {
     "data": {
      "text/plain": [
       "0.9438202247191011"
      ]
     },
     "execution_count": 120,
     "metadata": {},
     "output_type": "execute_result"
    }
   ],
   "source": [
    "Log_Count_clf = BoG_model(X_train, y_train, vocab=select_bbc)\n",
    "predicted = Log_Count_clf.predict(X_val)\n",
    "np.mean(predicted == y_val)"
   ]
  },
  {
   "cell_type": "code",
   "execution_count": 130,
   "metadata": {},
   "outputs": [
    {
     "data": {
      "text/plain": [
       "0.950561797752809"
      ]
     },
     "execution_count": 130,
     "metadata": {},
     "output_type": "execute_result"
    }
   ],
   "source": [
    "Log_TFIDF_clf = Tfidf_model(X_train, y_train, vocab= select_bbc)\n",
    "predicted = Log_TFIDF_clf.predict(X_val)\n",
    "np.mean(predicted == y_val)"
   ]
  },
  {
   "cell_type": "code",
   "execution_count": 131,
   "metadata": {},
   "outputs": [
    {
     "data": {
      "text/plain": [
       "0.9415730337078652"
      ]
     },
     "execution_count": 131,
     "metadata": {},
     "output_type": "execute_result"
    }
   ],
   "source": [
    "SVM_Count_clf = BoG_model(X_train, y_train,vocab= select_bbc, clf = 'SVM')\n",
    "predicted = SVM_Count_clf.predict(X_val)\n",
    "np.mean(predicted == y_val)"
   ]
  },
  {
   "cell_type": "code",
   "execution_count": 132,
   "metadata": {},
   "outputs": [
    {
     "data": {
      "text/plain": [
       "0.9550561797752809"
      ]
     },
     "execution_count": 132,
     "metadata": {},
     "output_type": "execute_result"
    }
   ],
   "source": [
    "SVM_TFIDF_clf = Tfidf_model(X_train, y_train,vocab= select_bbc, clf = 'SVM')\n",
    "predicted = SVM_TFIDF_clf.predict(X_val)\n",
    "np.mean(predicted == y_val)"
   ]
  },
  {
   "cell_type": "code",
   "execution_count": null,
   "metadata": {},
   "outputs": [],
   "source": []
  },
  {
   "cell_type": "code",
   "execution_count": null,
   "metadata": {},
   "outputs": [],
   "source": []
  },
  {
   "cell_type": "code",
   "execution_count": 145,
   "metadata": {},
   "outputs": [
    {
     "data": {
      "text/plain": [
       "0.9415730337078652"
      ]
     },
     "execution_count": 145,
     "metadata": {},
     "output_type": "execute_result"
    }
   ],
   "source": [
    "all_SVM_Count_clf = BoG_model(X_train, y_train,vocab= select_bbc, clf = 'SVM', combining = True)\n",
    "predicted = all_SVM_Count_clf.predict(X_val)\n",
    "np.mean(predicted == y_val)"
   ]
  },
  {
   "cell_type": "code",
   "execution_count": 152,
   "metadata": {},
   "outputs": [
    {
     "data": {
      "text/plain": [
       "0.9865168539325843"
      ]
     },
     "execution_count": 152,
     "metadata": {},
     "output_type": "execute_result"
    }
   ],
   "source": [
    "all_SVM_TFIDF_clf = Tfidf_model(X_train, y_train,vocab= select_bbc, clf = 'SVM', combining = True)\n",
    "predicted = all_SVM_TFIDF_clf.predict(X_val)\n",
    "np.mean(predicted == y_val)"
   ]
  },
  {
   "cell_type": "code",
   "execution_count": null,
   "metadata": {},
   "outputs": [],
   "source": []
  },
  {
   "cell_type": "code",
   "execution_count": null,
   "metadata": {},
   "outputs": [],
   "source": []
  },
  {
   "cell_type": "code",
   "execution_count": null,
   "metadata": {},
   "outputs": [],
   "source": []
  },
  {
   "cell_type": "code",
   "execution_count": null,
   "metadata": {},
   "outputs": [],
   "source": []
  },
  {
   "cell_type": "code",
   "execution_count": null,
   "metadata": {},
   "outputs": [],
   "source": []
  },
  {
   "cell_type": "code",
   "execution_count": null,
   "metadata": {},
   "outputs": [],
   "source": []
  },
  {
   "cell_type": "code",
   "execution_count": 212,
   "metadata": {},
   "outputs": [
    {
     "data": {
      "text/plain": [
       "69357"
      ]
     },
     "execution_count": 212,
     "metadata": {},
     "output_type": "execute_result"
    }
   ],
   "source": [
    "len(auto_ner_all_lst)"
   ]
  },
  {
   "cell_type": "code",
   "execution_count": null,
   "metadata": {},
   "outputs": [],
   "source": []
  },
  {
   "cell_type": "code",
   "execution_count": 175,
   "metadata": {},
   "outputs": [],
   "source": [
    "df_raw = pd.read_csv('../data/temp/raw.csv')\n",
    "NE_set = set()\n",
    "for i in df_raw.NE:\n",
    "    for j in i:\n",
    "        NE_set.add(j)"
   ]
  },
  {
   "cell_type": "code",
   "execution_count": 183,
   "metadata": {},
   "outputs": [],
   "source": [
    "import ast\n",
    "df_raw.NE = df_raw.NE.apply(lambda x: ast.literal_eval(x))"
   ]
  },
  {
   "cell_type": "code",
   "execution_count": 189,
   "metadata": {},
   "outputs": [],
   "source": [
    "ner_vocab = set(df_raw.NE.apply(lambda x: [re.sub(r\"\\:.+\",'',i) for i in x]).explode().dropna())"
   ]
  },
  {
   "cell_type": "code",
   "execution_count": 198,
   "metadata": {},
   "outputs": [],
   "source": [
    "auto_ner_all_lst = np.unique(list(ner_vocab) + list(select.phrase))"
   ]
  },
  {
   "cell_type": "code",
   "execution_count": 200,
   "metadata": {},
   "outputs": [
    {
     "name": "stderr",
     "output_type": "stream",
     "text": [
      "C:\\Users\\Yang Li\\Anaconda3\\lib\\site-packages\\sklearn\\linear_model\\_logistic.py:940: ConvergenceWarning: lbfgs failed to converge (status=1):\n",
      "STOP: TOTAL NO. of ITERATIONS REACHED LIMIT.\n",
      "\n",
      "Increase the number of iterations (max_iter) or scale the data as shown in:\n",
      "    https://scikit-learn.org/stable/modules/preprocessing.html\n",
      "Please also refer to the documentation for alternative solver options:\n",
      "    https://scikit-learn.org/stable/modules/linear_model.html#logistic-regression\n",
      "  extra_warning_msg=_LOGISTIC_SOLVER_CONVERGENCE_MSG)\n"
     ]
    },
    {
     "data": {
      "text/plain": [
       "0.7679235262878386"
      ]
     },
     "execution_count": 200,
     "metadata": {},
     "output_type": "execute_result"
    }
   ],
   "source": [
    "all_Log_Count_clf = BoG_model(newsgroups_train_X, newsgroups_train_y, vocab=auto_ner_all_lst)\n",
    "predicted = all_Log_Count_clf.predict(newsgroups_val_X)\n",
    "np.mean(predicted == newsgroups_val_y)"
   ]
  },
  {
   "cell_type": "code",
   "execution_count": 201,
   "metadata": {},
   "outputs": [
    {
     "data": {
      "text/plain": [
       "0.8048327137546468"
      ]
     },
     "execution_count": 201,
     "metadata": {},
     "output_type": "execute_result"
    }
   ],
   "source": [
    "all_Log_TFIDF_clf = Tfidf_model(newsgroups_train_X, newsgroups_train_y, vocab=auto_ner_all_lst)\n",
    "predicted = all_Log_TFIDF_clf.predict(newsgroups_val_X)\n",
    "np.mean(predicted == newsgroups_val_y)"
   ]
  },
  {
   "cell_type": "code",
   "execution_count": 203,
   "metadata": {},
   "outputs": [
    {
     "data": {
      "text/plain": [
       "0.8138608603292619"
      ]
     },
     "execution_count": 203,
     "metadata": {},
     "output_type": "execute_result"
    }
   ],
   "source": [
    "all_SVM_Count_clf = BoG_model(newsgroups_train_X, newsgroups_train_y, vocab=auto_ner_all_lst, clf = 'SVM')\n",
    "predicted = all_SVM_TFIDF_clf.predict(newsgroups_val_X)\n",
    "np.mean(predicted == newsgroups_val_y)"
   ]
  },
  {
   "cell_type": "code",
   "execution_count": 205,
   "metadata": {},
   "outputs": [
    {
     "data": {
      "text/plain": [
       "0.8151885289431758"
      ]
     },
     "execution_count": 205,
     "metadata": {},
     "output_type": "execute_result"
    }
   ],
   "source": [
    "all_SVM_TFIDF_clf = Tfidf_model(newsgroups_train_X, newsgroups_train_y, vocab=auto_ner_all_lst, clf = 'SVM')\n",
    "predicted = all_SVM_TFIDF_clf.predict(newsgroups_val_X)\n",
    "np.mean(predicted == newsgroups_val_y)"
   ]
  },
  {
   "cell_type": "code",
   "execution_count": null,
   "metadata": {},
   "outputs": [],
   "source": []
  },
  {
   "cell_type": "code",
   "execution_count": null,
   "metadata": {},
   "outputs": [],
   "source": []
  },
  {
   "cell_type": "code",
   "execution_count": 206,
   "metadata": {},
   "outputs": [
    {
     "name": "stderr",
     "output_type": "stream",
     "text": [
      "C:\\Users\\Yang Li\\Anaconda3\\lib\\site-packages\\sklearn\\linear_model\\_logistic.py:940: ConvergenceWarning: lbfgs failed to converge (status=1):\n",
      "STOP: TOTAL NO. of ITERATIONS REACHED LIMIT.\n",
      "\n",
      "Increase the number of iterations (max_iter) or scale the data as shown in:\n",
      "    https://scikit-learn.org/stable/modules/preprocessing.html\n",
      "Please also refer to the documentation for alternative solver options:\n",
      "    https://scikit-learn.org/stable/modules/linear_model.html#logistic-regression\n",
      "  extra_warning_msg=_LOGISTIC_SOLVER_CONVERGENCE_MSG)\n"
     ]
    },
    {
     "data": {
      "text/plain": [
       "0.7761550716941051"
      ]
     },
     "execution_count": 206,
     "metadata": {},
     "output_type": "execute_result"
    }
   ],
   "source": [
    "all_Log_Count_clf = BoG_model(newsgroups_train_X, newsgroups_train_y, vocab=auto_ner_all_lst, combining = True)\n",
    "predicted = all_Log_Count_clf.predict(newsgroups_val_X)\n",
    "np.mean(predicted == newsgroups_val_y)"
   ]
  },
  {
   "cell_type": "code",
   "execution_count": 207,
   "metadata": {},
   "outputs": [
    {
     "data": {
      "text/plain": [
       "0.8266064790228359"
      ]
     },
     "execution_count": 207,
     "metadata": {},
     "output_type": "execute_result"
    }
   ],
   "source": [
    "all_Log_TFIDF_clf = Tfidf_model(newsgroups_train_X, newsgroups_train_y, vocab=auto_ner_all_lst, combining = True)\n",
    "predicted = all_Log_TFIDF_clf.predict(newsgroups_val_X)\n",
    "np.mean(predicted == newsgroups_val_y)"
   ]
  },
  {
   "cell_type": "code",
   "execution_count": 208,
   "metadata": {},
   "outputs": [
    {
     "data": {
      "text/plain": [
       "0.8151885289431758"
      ]
     },
     "execution_count": 208,
     "metadata": {},
     "output_type": "execute_result"
    }
   ],
   "source": [
    "all_SVM_Count_clf = BoG_model(newsgroups_train_X, newsgroups_train_y, vocab=auto_ner_all_lst, clf = 'SVM', combining = True)\n",
    "predicted = all_SVM_TFIDF_clf.predict(newsgroups_val_X)\n",
    "np.mean(predicted == newsgroups_val_y)"
   ]
  },
  {
   "cell_type": "code",
   "execution_count": 211,
   "metadata": {},
   "outputs": [
    {
     "data": {
      "text/plain": [
       "0.8462559745087627"
      ]
     },
     "execution_count": 211,
     "metadata": {},
     "output_type": "execute_result"
    }
   ],
   "source": [
    "all_SVM_TFIDF_clf = Tfidf_model(newsgroups_train_X, newsgroups_train_y, vocab=auto_ner_all_lst, clf = 'SVM', combining = True)\n",
    "predicted = all_SVM_TFIDF_clf.predict(newsgroups_val_X)\n",
    "np.mean(predicted == newsgroups_val_y)"
   ]
  },
  {
   "cell_type": "code",
   "execution_count": null,
   "metadata": {},
   "outputs": [],
   "source": []
  },
  {
   "cell_type": "code",
   "execution_count": null,
   "metadata": {},
   "outputs": [],
   "source": []
  },
  {
   "cell_type": "code",
   "execution_count": null,
   "metadata": {},
   "outputs": [],
   "source": []
  },
  {
   "cell_type": "code",
   "execution_count": null,
   "metadata": {},
   "outputs": [],
   "source": []
  },
  {
   "cell_type": "code",
   "execution_count": null,
   "metadata": {},
   "outputs": [],
   "source": []
  },
  {
   "cell_type": "code",
   "execution_count": null,
   "metadata": {},
   "outputs": [],
   "source": []
  }
 ],
 "metadata": {
  "kernelspec": {
   "display_name": "Python 3",
   "language": "python",
   "name": "python3"
  },
  "language_info": {
   "codemirror_mode": {
    "name": "ipython",
    "version": 3
   },
   "file_extension": ".py",
   "mimetype": "text/x-python",
   "name": "python",
   "nbconvert_exporter": "python",
   "pygments_lexer": "ipython3",
   "version": "3.7.6"
  }
 },
 "nbformat": 4,
 "nbformat_minor": 2
}
