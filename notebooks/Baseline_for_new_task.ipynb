{
 "cells": [
  {
   "cell_type": "code",
   "execution_count": 16,
   "metadata": {},
   "outputs": [],
   "source": [
    "import pandas as pd\n",
    "import os\n",
    "import numpy as np\n",
    "from sklearn.datasets import fetch_20newsgroups\n",
    "import json\n",
    "\n",
    "from sklearn.datasets import fetch_20newsgroups\n",
    "\n",
    "from sklearn.feature_extraction.text import CountVectorizer\n",
    "from sklearn.model_selection import train_test_split\n",
    "from sklearn.feature_extraction.text import TfidfTransformer\n",
    "\n",
    "from sklearn.linear_model import SGDClassifier\n",
    "from sklearn.linear_model import LogisticRegression\n",
    "from sklearn.pipeline import Pipeline\n",
    "\n",
    "import re"
   ]
  },
  {
   "cell_type": "code",
   "execution_count": 24,
   "metadata": {},
   "outputs": [],
   "source": [
    "test_df.columns = ['text','type','summary','type_code']\n",
    "test_df = test_df.reset_index(drop = True)\n",
    "test_df.head()\n",
    "test_df.to_csv('../data/temp/test.csv', index=False)"
   ]
  },
  {
   "cell_type": "code",
   "execution_count": 25,
   "metadata": {},
   "outputs": [
    {
     "data": {
      "text/plain": [
       "50"
      ]
     },
     "execution_count": 25,
     "metadata": {},
     "output_type": "execute_result"
    }
   ],
   "source": [
    "test_df.shape[0]"
   ]
  },
  {
   "cell_type": "code",
   "execution_count": 133,
   "metadata": {},
   "outputs": [
    {
     "data": {
      "text/plain": [
       "['business', 'entertainment', 'politics', 'sport', 'tech']"
      ]
     },
     "execution_count": 133,
     "metadata": {},
     "output_type": "execute_result"
    }
   ],
   "source": [
    "data_folder = \"../data/raw/BBC News Summary/News Articles/\"\n",
    "entries = os.listdir(data_folder)\n",
    "entries"
   ]
  },
  {
   "cell_type": "code",
   "execution_count": 131,
   "metadata": {},
   "outputs": [],
   "source": [
    "all_data = {}\n",
    "for i in entries:\n",
    "    temp = []\n",
    "    folder_path = data_folder + i +'/'\n",
    "    file_lst = os.listdir(folder_path)\n",
    "    for j in file_lst:\n",
    "        if j != '.ipynb_checkpoints':\n",
    "            with open(folder_path +j, 'r', errors='ignore') as file:\n",
    "                temp.append(file.read().replace('\\n', ''))\n",
    "    all_data[i] = temp"
   ]
  },
  {
   "cell_type": "code",
   "execution_count": null,
   "metadata": {},
   "outputs": [],
   "source": [
    "summary_folder = \"../data/raw/BBC News Summary/Summaries/\"\n",
    "summary_entries = os.listdir(data_folder)\n",
    "all_sum = {}\n",
    "for i in entries:\n",
    "    temp = []\n",
    "    folder_path = summary_folder + i +'/'\n",
    "    file_lst = os.listdir(folder_path)\n",
    "    for j in file_lst:\n",
    "        if j != '.ipynb_checkpoints':\n",
    "            with open(folder_path +j, 'r', errors='ignore') as file:\n",
    "                temp.append(file.read().replace('\\n', ''))\n",
    "    all_sum[i] = temp"
   ]
  },
  {
   "cell_type": "code",
   "execution_count": null,
   "metadata": {},
   "outputs": [],
   "source": []
  },
  {
   "cell_type": "code",
   "execution_count": 21,
   "metadata": {},
   "outputs": [],
   "source": [
    "total_df = pd.DataFrame()\n",
    "test_df = pd.DataFrame()\n",
    "for i in np.arange(len(entries)):\n",
    "    if i == 0:\n",
    "        total_df = pd.DataFrame.from_dict(all_data['business'])\n",
    "        total_df['type'] = 'business'\n",
    "        total_df['summary'] = all_sum['business']\n",
    "        total_df['type_code'] = i+1\n",
    "        \n",
    "        \n",
    "        index = np.random.choice(total_df.shape[0],10)\n",
    "        test_df = total_df.loc[index]\n",
    "    else:\n",
    "        temp_df = pd.DataFrame.from_dict(all_data[entries[i]])\n",
    "        temp_df['type'] = entries[i]\n",
    "        temp_df['summary'] = all_sum[entries[i]]\n",
    "        temp_df['type_code'] = i+1\n",
    "        total_df =pd.concat([total_df, temp_df], axis=0)\n",
    "        \n",
    "        index = np.random.choice(temp_df.shape[0], 10)\n",
    "        temp_test_df = temp_df.loc[index]\n",
    "        test_df =pd.concat([test_df,temp_test_df] , axis=0) \n",
    "        \n",
    "total_df.columns = ['text','type','summary','type_code']\n",
    "total_df = total_df.reset_index(drop = True)\n",
    "total_df.to_csv('../data/temp/all_data.csv', index=False)"
   ]
  },
  {
   "cell_type": "code",
   "execution_count": 22,
   "metadata": {},
   "outputs": [
    {
     "data": {
      "text/plain": [
       "2225"
      ]
     },
     "execution_count": 22,
     "metadata": {},
     "output_type": "execute_result"
    }
   ],
   "source": [
    "total_df.shape[0]"
   ]
  },
  {
   "cell_type": "code",
   "execution_count": 26,
   "metadata": {},
   "outputs": [],
   "source": [
    "data_folder = \"../data/raw/BBC News Summary/News Articles/\"\n",
    "entries = os.listdir('../data/raw/BBC News Summary/News Articles/')"
   ]
  },
  {
   "cell_type": "code",
   "execution_count": 32,
   "metadata": {},
   "outputs": [],
   "source": [
    "temp = \"../data/raw/BBC News Summary\""
   ]
  },
  {
   "cell_type": "code",
   "execution_count": null,
   "metadata": {},
   "outputs": [],
   "source": []
  },
  {
   "cell_type": "code",
   "execution_count": 3,
   "metadata": {},
   "outputs": [],
   "source": [
    "newsgroups_train = fetch_20newsgroups(subset='train')"
   ]
  },
  {
   "cell_type": "code",
   "execution_count": 5,
   "metadata": {},
   "outputs": [],
   "source": [
    "news_df = pd.DataFrame.from_dict(newsgroups_train,'index').T\n"
   ]
  },
  {
   "cell_type": "code",
   "execution_count": 7,
   "metadata": {},
   "outputs": [],
   "source": []
  },
  {
   "cell_type": "code",
   "execution_count": 12,
   "metadata": {},
   "outputs": [],
   "source": [
    "def regex_condi(string):\n",
    "    if \".com\" in string:\n",
    "        return False\n",
    "    if \".edu\" in string:\n",
    "        return False\n",
    "    if \"@\" in string:\n",
    "        return False\n",
    "    if 'Host'in string:\n",
    "        return False\n",
    "    if \".gov\" in string:\n",
    "        return False\n",
    "\n",
    "    return True\n",
    "\n",
    "\n",
    "def clean_text(string):\n",
    "    string = \" \".join([i for i in string.split() if regex_condi(i)])\n",
    "    string = re.sub(r\"Re:\",\"\", string)\n",
    "    string = re.sub(r\"Reply-To:\",\"\", string)\n",
    "\n",
    "    string_lst = string.split(': ')\n",
    "    \n",
    "    \n",
    "    toreturn = \"\"\n",
    "    for i in np.arange(len(string_lst) - 1):\n",
    "        if \"Subject\" in string_lst[i]:\n",
    "            temp = string_lst[i+1].split(' ')\n",
    "            toreturn += \" \" + ' '.join(temp[:-1])\n",
    "        if \"Keywords\" in string_lst[i]:\n",
    "            temp = string_lst[i+1].split(' ')\n",
    "            toreturn += \" \" + ' '.join(temp[:-1])\n",
    "        if \"Organization\" in string_lst[i]:\n",
    "            temp = string_lst[i+1].split(' ')\n",
    "            toreturn += \" \" + ' '.join(temp[:-1])\n",
    "            \n",
    "        if \"Lines\" in string_lst[i]:\n",
    "            temp = \"\"\n",
    "            for j in range(i+1,len(string_lst)):\n",
    "                temp += string_lst[j]\n",
    "            toreturn += temp\n",
    "            break\n",
    "\n",
    "    toreturn = re.sub(r\"\\'\", \"\", toreturn)\n",
    "    toreturn = re.sub(r\"\\>\", \"\", toreturn)\n",
    "    toreturn = re.sub(r\"\\:\", \"\", toreturn)\n",
    "    toreturn = re.sub(r\"^[0-9]+ \", \"\", toreturn)\n",
    "    toreturn = re.sub(r\"\\/\", ' ',toreturn)\n",
    "    toreturn = re.sub(r\"\\-{2,}\", ' ',toreturn)\n",
    "    toreturn = re.sub(r\"\\s+\", ' ',toreturn)\n",
    "    toreturn = toreturn.strip()\n",
    "    return toreturn"
   ]
  },
  {
   "cell_type": "code",
   "execution_count": 13,
   "metadata": {},
   "outputs": [],
   "source": [
    "os.makedirs('../data/temp',exist_ok=True)"
   ]
  },
  {
   "cell_type": "code",
   "execution_count": 30,
   "metadata": {},
   "outputs": [],
   "source": [
    "tar_0 = news_df[news_df.target == 7]"
   ]
  },
  {
   "cell_type": "code",
   "execution_count": 31,
   "metadata": {},
   "outputs": [],
   "source": [
    "with open('../data/temp/tar_0.txt', 'w', encoding='utf-8') as f:\n",
    "    f.write('\\n'.join(tar_0.data.apply(lambda x: clean_text(x)+ '.')))"
   ]
  },
  {
   "cell_type": "code",
   "execution_count": null,
   "metadata": {},
   "outputs": [],
   "source": []
  },
  {
   "cell_type": "code",
   "execution_count": 32,
   "metadata": {},
   "outputs": [],
   "source": [
    "para = ' '.join([f'{param}={value}' for param, value in json.load(open('../config/autophrase_cfg.json')).items()])"
   ]
  },
  {
   "cell_type": "code",
   "execution_count": 17,
   "metadata": {},
   "outputs": [
    {
     "data": {
      "text/plain": [
       "0"
      ]
     },
     "execution_count": 17,
     "metadata": {},
     "output_type": "execute_result"
    }
   ],
   "source": [
    "os.system('git submodule init && git submodule update')"
   ]
  },
  {
   "cell_type": "code",
   "execution_count": 18,
   "metadata": {},
   "outputs": [
    {
     "data": {
      "text/plain": [
       "0"
      ]
     },
     "execution_count": 18,
     "metadata": {},
     "output_type": "execute_result"
    }
   ],
   "source": [
    "os.system(f'cd ../AutoPhrase/ && {para} ./auto_phrase.sh')"
   ]
  },
  {
   "cell_type": "code",
   "execution_count": 16,
   "metadata": {},
   "outputs": [],
   "source": [
    "news_df.data = news_df.data.apply(lambda x: clean_text(x)+ '.')"
   ]
  },
  {
   "cell_type": "code",
   "execution_count": null,
   "metadata": {},
   "outputs": [],
   "source": []
  },
  {
   "cell_type": "code",
   "execution_count": 39,
   "metadata": {},
   "outputs": [
    {
     "data": {
      "text/plain": [
       "0         114\n",
       "17       1574\n",
       "29        108\n",
       "56        360\n",
       "64         82\n",
       "         ... \n",
       "11238     340\n",
       "11282     386\n",
       "11288     227\n",
       "11291     232\n",
       "11292     352\n",
       "Name: data, Length: 594, dtype: int64"
      ]
     },
     "execution_count": 39,
     "metadata": {},
     "output_type": "execute_result"
    }
   ],
   "source": [
    "tar_0.data.apply(lambda x: len(x.split(' ')))"
   ]
  },
  {
   "cell_type": "code",
   "execution_count": null,
   "metadata": {},
   "outputs": [],
   "source": []
  },
  {
   "cell_type": "code",
   "execution_count": 35,
   "metadata": {},
   "outputs": [
    {
     "data": {
      "text/html": [
       "<div>\n",
       "<style scoped>\n",
       "    .dataframe tbody tr th:only-of-type {\n",
       "        vertical-align: middle;\n",
       "    }\n",
       "\n",
       "    .dataframe tbody tr th {\n",
       "        vertical-align: top;\n",
       "    }\n",
       "\n",
       "    .dataframe thead th {\n",
       "        text-align: right;\n",
       "    }\n",
       "</style>\n",
       "<table border=\"1\" class=\"dataframe\">\n",
       "  <thead>\n",
       "    <tr style=\"text-align: right;\">\n",
       "      <th></th>\n",
       "      <th>data</th>\n",
       "      <th>filenames</th>\n",
       "      <th>target_names</th>\n",
       "      <th>target</th>\n",
       "      <th>DESCR</th>\n",
       "    </tr>\n",
       "  </thead>\n",
       "  <tbody>\n",
       "    <tr>\n",
       "      <th>0</th>\n",
       "      <td>From: lerxst@wam.umd.edu (where's my thing)\\nS...</td>\n",
       "      <td>/home/yal319/scikit_learn_data/20news_home/20n...</td>\n",
       "      <td>alt.atheism</td>\n",
       "      <td>7</td>\n",
       "      <td>.</td>\n",
       "    </tr>\n",
       "    <tr>\n",
       "      <th>1</th>\n",
       "      <td>From: guykuo@carson.u.washington.edu (Guy Kuo)...</td>\n",
       "      <td>/home/yal319/scikit_learn_data/20news_home/20n...</td>\n",
       "      <td>comp.graphics</td>\n",
       "      <td>4</td>\n",
       "      <td>.</td>\n",
       "    </tr>\n",
       "    <tr>\n",
       "      <th>2</th>\n",
       "      <td>From: twillis@ec.ecn.purdue.edu (Thomas E Will...</td>\n",
       "      <td>/home/yal319/scikit_learn_data/20news_home/20n...</td>\n",
       "      <td>comp.os.ms-windows.misc</td>\n",
       "      <td>4</td>\n",
       "      <td></td>\n",
       "    </tr>\n",
       "    <tr>\n",
       "      <th>3</th>\n",
       "      <td>From: jgreen@amber (Joe Green)\\nSubject: Re: W...</td>\n",
       "      <td>/home/yal319/scikit_learn_data/20news_home/20n...</td>\n",
       "      <td>comp.sys.ibm.pc.hardware</td>\n",
       "      <td>1</td>\n",
       "      <td>_</td>\n",
       "    </tr>\n",
       "    <tr>\n",
       "      <th>4</th>\n",
       "      <td>From: jcm@head-cfa.harvard.edu (Jonathan McDow...</td>\n",
       "      <td>/home/yal319/scikit_learn_data/20news_home/20n...</td>\n",
       "      <td>comp.sys.mac.hardware</td>\n",
       "      <td>14</td>\n",
       "      <td>2</td>\n",
       "    </tr>\n",
       "    <tr>\n",
       "      <th>...</th>\n",
       "      <td>...</td>\n",
       "      <td>...</td>\n",
       "      <td>...</td>\n",
       "      <td>...</td>\n",
       "      <td>...</td>\n",
       "    </tr>\n",
       "    <tr>\n",
       "      <th>11309</th>\n",
       "      <td>From: jim.zisfein@factory.com (Jim Zisfein) \\n...</td>\n",
       "      <td>/home/yal319/scikit_learn_data/20news_home/20n...</td>\n",
       "      <td>None</td>\n",
       "      <td>13</td>\n",
       "      <td>None</td>\n",
       "    </tr>\n",
       "    <tr>\n",
       "      <th>11310</th>\n",
       "      <td>From: ebodin@pearl.tufts.edu\\nSubject: Screen ...</td>\n",
       "      <td>/home/yal319/scikit_learn_data/20news_home/20n...</td>\n",
       "      <td>None</td>\n",
       "      <td>4</td>\n",
       "      <td>None</td>\n",
       "    </tr>\n",
       "    <tr>\n",
       "      <th>11311</th>\n",
       "      <td>From: westes@netcom.com (Will Estes)\\nSubject:...</td>\n",
       "      <td>/home/yal319/scikit_learn_data/20news_home/20n...</td>\n",
       "      <td>None</td>\n",
       "      <td>3</td>\n",
       "      <td>None</td>\n",
       "    </tr>\n",
       "    <tr>\n",
       "      <th>11312</th>\n",
       "      <td>From: steve@hcrlgw (Steven Collins)\\nSubject: ...</td>\n",
       "      <td>/home/yal319/scikit_learn_data/20news_home/20n...</td>\n",
       "      <td>None</td>\n",
       "      <td>1</td>\n",
       "      <td>None</td>\n",
       "    </tr>\n",
       "    <tr>\n",
       "      <th>11313</th>\n",
       "      <td>From: gunning@cco.caltech.edu (Kevin J. Gunnin...</td>\n",
       "      <td>/home/yal319/scikit_learn_data/20news_home/20n...</td>\n",
       "      <td>None</td>\n",
       "      <td>8</td>\n",
       "      <td>None</td>\n",
       "    </tr>\n",
       "  </tbody>\n",
       "</table>\n",
       "<p>11314 rows × 5 columns</p>\n",
       "</div>"
      ],
      "text/plain": [
       "                                                    data  \\\n",
       "0      From: lerxst@wam.umd.edu (where's my thing)\\nS...   \n",
       "1      From: guykuo@carson.u.washington.edu (Guy Kuo)...   \n",
       "2      From: twillis@ec.ecn.purdue.edu (Thomas E Will...   \n",
       "3      From: jgreen@amber (Joe Green)\\nSubject: Re: W...   \n",
       "4      From: jcm@head-cfa.harvard.edu (Jonathan McDow...   \n",
       "...                                                  ...   \n",
       "11309  From: jim.zisfein@factory.com (Jim Zisfein) \\n...   \n",
       "11310  From: ebodin@pearl.tufts.edu\\nSubject: Screen ...   \n",
       "11311  From: westes@netcom.com (Will Estes)\\nSubject:...   \n",
       "11312  From: steve@hcrlgw (Steven Collins)\\nSubject: ...   \n",
       "11313  From: gunning@cco.caltech.edu (Kevin J. Gunnin...   \n",
       "\n",
       "                                               filenames  \\\n",
       "0      /home/yal319/scikit_learn_data/20news_home/20n...   \n",
       "1      /home/yal319/scikit_learn_data/20news_home/20n...   \n",
       "2      /home/yal319/scikit_learn_data/20news_home/20n...   \n",
       "3      /home/yal319/scikit_learn_data/20news_home/20n...   \n",
       "4      /home/yal319/scikit_learn_data/20news_home/20n...   \n",
       "...                                                  ...   \n",
       "11309  /home/yal319/scikit_learn_data/20news_home/20n...   \n",
       "11310  /home/yal319/scikit_learn_data/20news_home/20n...   \n",
       "11311  /home/yal319/scikit_learn_data/20news_home/20n...   \n",
       "11312  /home/yal319/scikit_learn_data/20news_home/20n...   \n",
       "11313  /home/yal319/scikit_learn_data/20news_home/20n...   \n",
       "\n",
       "                   target_names target DESCR  \n",
       "0                   alt.atheism      7     .  \n",
       "1                 comp.graphics      4     .  \n",
       "2       comp.os.ms-windows.misc      4        \n",
       "3      comp.sys.ibm.pc.hardware      1     _  \n",
       "4         comp.sys.mac.hardware     14     2  \n",
       "...                         ...    ...   ...  \n",
       "11309                      None     13  None  \n",
       "11310                      None      4  None  \n",
       "11311                      None      3  None  \n",
       "11312                      None      1  None  \n",
       "11313                      None      8  None  \n",
       "\n",
       "[11314 rows x 5 columns]"
      ]
     },
     "execution_count": 35,
     "metadata": {},
     "output_type": "execute_result"
    }
   ],
   "source": [
    "news_df"
   ]
  },
  {
   "cell_type": "code",
   "execution_count": 34,
   "metadata": {},
   "outputs": [
    {
     "data": {
      "text/plain": [
       "10    600\n",
       "15    599\n",
       "8     598\n",
       "9     597\n",
       "11    595\n",
       "7     594\n",
       "13    594\n",
       "5     593\n",
       "14    593\n",
       "12    591\n",
       "2     591\n",
       "3     590\n",
       "6     585\n",
       "1     584\n",
       "4     578\n",
       "17    564\n",
       "16    546\n",
       "0     480\n",
       "18    465\n",
       "19    377\n",
       "Name: target, dtype: int64"
      ]
     },
     "execution_count": 34,
     "metadata": {},
     "output_type": "execute_result"
    }
   ],
   "source": [
    "news_df.target.value_counts()"
   ]
  },
  {
   "cell_type": "code",
   "execution_count": null,
   "metadata": {},
   "outputs": [],
   "source": []
  },
  {
   "cell_type": "code",
   "execution_count": 134,
   "metadata": {},
   "outputs": [],
   "source": [
    "data_folder = \"../data/raw/20_newsgroups/\"\n",
    "entries = os.listdir(data_folder)\n",
    "all_data = {}\n",
    "for i in entries:\n",
    "    temp = []\n",
    "    folder_path = data_folder + i +'/'\n",
    "    file_lst = os.listdir(folder_path)\n",
    "    for j in file_lst:\n",
    "        if j != '.ipynb_checkpoints':\n",
    "            with open(folder_path +j, 'r', errors='ignore') as file:\n",
    "                temp.append(file.read().replace('\\n', ''))\n",
    "    all_data[i] = temp"
   ]
  },
  {
   "cell_type": "code",
   "execution_count": 137,
   "metadata": {},
   "outputs": [],
   "source": [
    "total_df = pd.DataFrame()\n",
    "test_df = pd.DataFrame()\n",
    "for i in np.arange(len(entries)):\n",
    "    if i == 0:\n",
    "        total_df = pd.DataFrame.from_dict(all_data['alt.atheism'])\n",
    "        total_df['type'] = 'alt.atheism'\n",
    "        total_df['type_code'] = i+1\n",
    "        \n",
    "        \n",
    "        index = np.random.choice(total_df.shape[0],10)\n",
    "        test_df = total_df.loc[index]\n",
    "    else:\n",
    "        temp_df = pd.DataFrame.from_dict(all_data[entries[i]])\n",
    "        temp_df['type'] = entries[i]\n",
    "        temp_df['type_code'] = i+1\n",
    "        total_df = pd.concat([total_df, temp_df], axis=0)\n",
    "        \n",
    "        index = np.random.choice(temp_df.shape[0], 10)\n",
    "        temp_test_df = temp_df.loc[index]\n",
    "        test_df =pd.concat([test_df,temp_test_df] , axis=0) \n",
    "        \n",
    "\n",
    "total_df = total_df.reset_index(drop = True)\n"
   ]
  },
  {
   "cell_type": "code",
   "execution_count": null,
   "metadata": {},
   "outputs": [],
   "source": [
    "total_df.to_csv('../data/temp/all_data.csv', index=False)"
   ]
  },
  {
   "cell_type": "code",
   "execution_count": null,
   "metadata": {},
   "outputs": [],
   "source": []
  },
  {
   "cell_type": "code",
   "execution_count": null,
   "metadata": {},
   "outputs": [],
   "source": []
  },
  {
   "cell_type": "code",
   "execution_count": null,
   "metadata": {},
   "outputs": [],
   "source": []
  },
  {
   "cell_type": "code",
   "execution_count": null,
   "metadata": {},
   "outputs": [],
   "source": []
  },
  {
   "cell_type": "code",
   "execution_count": null,
   "metadata": {},
   "outputs": [],
   "source": []
  },
  {
   "cell_type": "code",
   "execution_count": null,
   "metadata": {},
   "outputs": [],
   "source": []
  },
  {
   "cell_type": "code",
   "execution_count": 82,
   "metadata": {},
   "outputs": [],
   "source": []
  },
  {
   "cell_type": "code",
   "execution_count": null,
   "metadata": {},
   "outputs": [],
   "source": []
  },
  {
   "cell_type": "code",
   "execution_count": null,
   "metadata": {},
   "outputs": [],
   "source": []
  },
  {
   "cell_type": "code",
   "execution_count": 1,
   "metadata": {},
   "outputs": [],
   "source": []
  },
  {
   "cell_type": "code",
   "execution_count": 41,
   "metadata": {},
   "outputs": [],
   "source": [
    "newsgroups_train = fetch_20newsgroups(subset='train')"
   ]
  },
  {
   "cell_type": "code",
   "execution_count": 42,
   "metadata": {},
   "outputs": [],
   "source": [
    "newsgroups_test = fetch_20newsgroups(subset='test')"
   ]
  },
  {
   "cell_type": "code",
   "execution_count": 45,
   "metadata": {},
   "outputs": [
    {
     "data": {
      "text/plain": [
       "19127"
      ]
     },
     "execution_count": 45,
     "metadata": {},
     "output_type": "execute_result"
    }
   ],
   "source": [
    "count_vect = CountVectorizer()\n",
    "X_train_counts = count_vect.fit_transform(clean_data)\n",
    "count_vect.vocabulary_.get(u'algorithm')"
   ]
  },
  {
   "cell_type": "code",
   "execution_count": 44,
   "metadata": {},
   "outputs": [],
   "source": [
    "clean_data = [clean_text(i) for i in newsgroups_train.data]"
   ]
  },
  {
   "cell_type": "code",
   "execution_count": 46,
   "metadata": {},
   "outputs": [
    {
     "name": "stderr",
     "output_type": "stream",
     "text": [
      "/opt/conda/lib/python3.8/site-packages/sklearn/linear_model/_logistic.py:763: ConvergenceWarning: lbfgs failed to converge (status=1):\n",
      "STOP: TOTAL NO. of ITERATIONS REACHED LIMIT.\n",
      "\n",
      "Increase the number of iterations (max_iter) or scale the data as shown in:\n",
      "    https://scikit-learn.org/stable/modules/preprocessing.html\n",
      "Please also refer to the documentation for alternative solver options:\n",
      "    https://scikit-learn.org/stable/modules/linear_model.html#logistic-regression\n",
      "  n_iter_i = _check_optimize_result(\n"
     ]
    },
    {
     "data": {
      "text/plain": [
       "Pipeline(steps=[('vect', CountVectorizer()), ('clf', LogisticRegression())])"
      ]
     },
     "execution_count": 46,
     "metadata": {},
     "output_type": "execute_result"
    }
   ],
   "source": [
    "\n",
    "text_clf = Pipeline([\n",
    "     ('vect', CountVectorizer()),\n",
    "     ('clf', LogisticRegression(max_iter = 100))\n",
    " ])\n",
    "text_clf.fit(clean_data, newsgroups_train.target)"
   ]
  },
  {
   "cell_type": "code",
   "execution_count": 50,
   "metadata": {},
   "outputs": [
    {
     "data": {
      "text/plain": [
       "0.7616834838024429"
      ]
     },
     "execution_count": 50,
     "metadata": {},
     "output_type": "execute_result"
    }
   ],
   "source": [
    "import numpy as np\n",
    "twenty_test = fetch_20newsgroups(subset='test')\n",
    "docs_test = [clean_text(i) for i in twenty_test.data]\n",
    "predicted = text_clf.predict(docs_test)\n",
    "np.mean(predicted == twenty_test.target)"
   ]
  },
  {
   "cell_type": "code",
   "execution_count": 51,
   "metadata": {},
   "outputs": [
    {
     "name": "stdout",
     "output_type": "stream",
     "text": [
      "                          precision    recall  f1-score   support\n",
      "\n",
      "             alt.atheism       0.65      0.66      0.65       319\n",
      "           comp.graphics       0.67      0.73      0.70       389\n",
      " comp.os.ms-windows.misc       0.73      0.64      0.68       394\n",
      "comp.sys.ibm.pc.hardware       0.63      0.64      0.64       392\n",
      "   comp.sys.mac.hardware       0.76      0.77      0.77       385\n",
      "          comp.windows.x       0.81      0.71      0.76       395\n",
      "            misc.forsale       0.79      0.86      0.82       390\n",
      "               rec.autos       0.78      0.81      0.80       396\n",
      "         rec.motorcycles       0.85      0.90      0.87       398\n",
      "      rec.sport.baseball       0.82      0.88      0.85       397\n",
      "        rec.sport.hockey       0.91      0.90      0.91       399\n",
      "               sci.crypt       0.89      0.84      0.87       396\n",
      "         sci.electronics       0.66      0.69      0.67       393\n",
      "                 sci.med       0.81      0.77      0.79       396\n",
      "               sci.space       0.88      0.86      0.87       394\n",
      "  soc.religion.christian       0.72      0.81      0.76       398\n",
      "      talk.politics.guns       0.68      0.81      0.74       364\n",
      "   talk.politics.mideast       0.90      0.73      0.80       376\n",
      "      talk.politics.misc       0.64      0.52      0.58       310\n",
      "      talk.religion.misc       0.56      0.55      0.56       251\n",
      "\n",
      "                accuracy                           0.76      7532\n",
      "               macro avg       0.76      0.75      0.75      7532\n",
      "            weighted avg       0.76      0.76      0.76      7532\n",
      "\n"
     ]
    }
   ],
   "source": [
    "from sklearn import metrics\n",
    "print(metrics.classification_report(twenty_test.target, predicted,target_names=twenty_test.target_names))"
   ]
  },
  {
   "cell_type": "code",
   "execution_count": null,
   "metadata": {},
   "outputs": [],
   "source": []
  },
  {
   "cell_type": "code",
   "execution_count": 52,
   "metadata": {},
   "outputs": [
    {
     "data": {
      "text/plain": [
       "(11314, 120548)"
      ]
     },
     "execution_count": 52,
     "metadata": {},
     "output_type": "execute_result"
    }
   ],
   "source": [
    "tfidf_transformer = TfidfTransformer()\n",
    "X_train_tfidf = tfidf_transformer.fit_transform(X_train_counts)\n",
    "X_train_tfidf.shape"
   ]
  },
  {
   "cell_type": "code",
   "execution_count": 53,
   "metadata": {},
   "outputs": [
    {
     "data": {
      "text/plain": [
       "Pipeline(steps=[('vect', CountVectorizer()), ('tfidf', TfidfTransformer()),\n",
       "                ('clf', LogisticRegression())])"
      ]
     },
     "execution_count": 53,
     "metadata": {},
     "output_type": "execute_result"
    }
   ],
   "source": [
    "text_clf1 = Pipeline([\n",
    "    ('vect', CountVectorizer()),\n",
    "    ('tfidf', TfidfTransformer()),\n",
    "    ('clf', LogisticRegression()),\n",
    "])\n",
    "text_clf1.fit(newsgroups_train.data, newsgroups_train.target)"
   ]
  },
  {
   "cell_type": "code",
   "execution_count": 54,
   "metadata": {},
   "outputs": [
    {
     "data": {
      "text/plain": [
       "0.8274030801911842"
      ]
     },
     "execution_count": 54,
     "metadata": {},
     "output_type": "execute_result"
    }
   ],
   "source": [
    "import numpy as np\n",
    "twenty_test = fetch_20newsgroups(subset='test')\n",
    "docs_test = twenty_test.data\n",
    "predicted = text_clf1.predict(docs_test)\n",
    "np.mean(predicted == twenty_test.target)"
   ]
  },
  {
   "cell_type": "code",
   "execution_count": 55,
   "metadata": {},
   "outputs": [
    {
     "name": "stdout",
     "output_type": "stream",
     "text": [
      "                          precision    recall  f1-score   support\n",
      "\n",
      "             alt.atheism       0.80      0.74      0.77       319\n",
      "           comp.graphics       0.69      0.79      0.74       389\n",
      " comp.os.ms-windows.misc       0.75      0.73      0.74       394\n",
      "comp.sys.ibm.pc.hardware       0.72      0.72      0.72       392\n",
      "   comp.sys.mac.hardware       0.81      0.83      0.82       385\n",
      "          comp.windows.x       0.83      0.74      0.78       395\n",
      "            misc.forsale       0.76      0.90      0.82       390\n",
      "               rec.autos       0.90      0.89      0.90       396\n",
      "         rec.motorcycles       0.95      0.95      0.95       398\n",
      "      rec.sport.baseball       0.88      0.92      0.90       397\n",
      "        rec.sport.hockey       0.94      0.95      0.95       399\n",
      "               sci.crypt       0.94      0.88      0.91       396\n",
      "         sci.electronics       0.76      0.80      0.78       393\n",
      "                 sci.med       0.89      0.83      0.85       396\n",
      "               sci.space       0.91      0.92      0.91       394\n",
      "  soc.religion.christian       0.81      0.94      0.87       398\n",
      "      talk.politics.guns       0.72      0.88      0.79       364\n",
      "   talk.politics.mideast       0.96      0.87      0.92       376\n",
      "      talk.politics.misc       0.76      0.59      0.66       310\n",
      "      talk.religion.misc       0.81      0.49      0.61       251\n",
      "\n",
      "                accuracy                           0.83      7532\n",
      "               macro avg       0.83      0.82      0.82      7532\n",
      "            weighted avg       0.83      0.83      0.83      7532\n",
      "\n"
     ]
    }
   ],
   "source": [
    "from sklearn import metrics\n",
    "print(metrics.classification_report(twenty_test.target, predicted,target_names=twenty_test.target_names))"
   ]
  },
  {
   "cell_type": "code",
   "execution_count": null,
   "metadata": {},
   "outputs": [],
   "source": []
  },
  {
   "cell_type": "code",
   "execution_count": 72,
   "metadata": {},
   "outputs": [
    {
     "data": {
      "text/plain": [
       "['alt.atheism',\n",
       " 'comp.graphics',\n",
       " 'comp.os.ms-windows.misc',\n",
       " 'comp.sys.ibm.pc.hardware',\n",
       " 'comp.sys.mac.hardware',\n",
       " 'comp.windows.x',\n",
       " 'misc.forsale',\n",
       " 'rec.autos',\n",
       " 'rec.motorcycles',\n",
       " 'rec.sport.baseball',\n",
       " 'rec.sport.hockey',\n",
       " 'sci.crypt',\n",
       " 'sci.electronics',\n",
       " 'sci.med',\n",
       " 'sci.space',\n",
       " 'soc.religion.christian',\n",
       " 'talk.politics.guns',\n",
       " 'talk.politics.mideast',\n",
       " 'talk.politics.misc',\n",
       " 'talk.religion.misc']"
      ]
     },
     "execution_count": 72,
     "metadata": {},
     "output_type": "execute_result"
    }
   ],
   "source": [
    "twenty_test.target_names"
   ]
  },
  {
   "cell_type": "code",
   "execution_count": null,
   "metadata": {},
   "outputs": [],
   "source": []
  },
  {
   "cell_type": "code",
   "execution_count": 53,
   "metadata": {},
   "outputs": [
    {
     "data": {
      "text/html": [
       "<div>\n",
       "<style scoped>\n",
       "    .dataframe tbody tr th:only-of-type {\n",
       "        vertical-align: middle;\n",
       "    }\n",
       "\n",
       "    .dataframe tbody tr th {\n",
       "        vertical-align: top;\n",
       "    }\n",
       "\n",
       "    .dataframe thead th {\n",
       "        text-align: right;\n",
       "    }\n",
       "</style>\n",
       "<table border=\"1\" class=\"dataframe\">\n",
       "  <thead>\n",
       "    <tr style=\"text-align: right;\">\n",
       "      <th></th>\n",
       "      <th>data</th>\n",
       "      <th>filenames</th>\n",
       "      <th>target_names</th>\n",
       "      <th>target</th>\n",
       "      <th>DESCR</th>\n",
       "    </tr>\n",
       "  </thead>\n",
       "  <tbody>\n",
       "    <tr>\n",
       "      <th>0</th>\n",
       "      <td>From: lerxst@wam.umd.edu (where's my thing)\\nS...</td>\n",
       "      <td>/home/yal319/scikit_learn_data/20news_home/20n...</td>\n",
       "      <td>alt.atheism</td>\n",
       "      <td>7</td>\n",
       "      <td>.</td>\n",
       "    </tr>\n",
       "    <tr>\n",
       "      <th>1</th>\n",
       "      <td>From: guykuo@carson.u.washington.edu (Guy Kuo)...</td>\n",
       "      <td>/home/yal319/scikit_learn_data/20news_home/20n...</td>\n",
       "      <td>comp.graphics</td>\n",
       "      <td>4</td>\n",
       "      <td>.</td>\n",
       "    </tr>\n",
       "    <tr>\n",
       "      <th>2</th>\n",
       "      <td>From: twillis@ec.ecn.purdue.edu (Thomas E Will...</td>\n",
       "      <td>/home/yal319/scikit_learn_data/20news_home/20n...</td>\n",
       "      <td>comp.os.ms-windows.misc</td>\n",
       "      <td>4</td>\n",
       "      <td></td>\n",
       "    </tr>\n",
       "    <tr>\n",
       "      <th>3</th>\n",
       "      <td>From: jgreen@amber (Joe Green)\\nSubject: Re: W...</td>\n",
       "      <td>/home/yal319/scikit_learn_data/20news_home/20n...</td>\n",
       "      <td>comp.sys.ibm.pc.hardware</td>\n",
       "      <td>1</td>\n",
       "      <td>_</td>\n",
       "    </tr>\n",
       "    <tr>\n",
       "      <th>4</th>\n",
       "      <td>From: jcm@head-cfa.harvard.edu (Jonathan McDow...</td>\n",
       "      <td>/home/yal319/scikit_learn_data/20news_home/20n...</td>\n",
       "      <td>comp.sys.mac.hardware</td>\n",
       "      <td>14</td>\n",
       "      <td>2</td>\n",
       "    </tr>\n",
       "    <tr>\n",
       "      <th>5</th>\n",
       "      <td>From: dfo@vttoulu.tko.vtt.fi (Foxvog Douglas)\\...</td>\n",
       "      <td>/home/yal319/scikit_learn_data/20news_home/20n...</td>\n",
       "      <td>comp.windows.x</td>\n",
       "      <td>16</td>\n",
       "      <td>0</td>\n",
       "    </tr>\n",
       "    <tr>\n",
       "      <th>6</th>\n",
       "      <td>From: bmdelane@quads.uchicago.edu (brian manni...</td>\n",
       "      <td>/home/yal319/scikit_learn_data/20news_home/20n...</td>\n",
       "      <td>misc.forsale</td>\n",
       "      <td>13</td>\n",
       "      <td>n</td>\n",
       "    </tr>\n",
       "    <tr>\n",
       "      <th>7</th>\n",
       "      <td>From: bgrubb@dante.nmsu.edu (GRUBB)\\nSubject: ...</td>\n",
       "      <td>/home/yal319/scikit_learn_data/20news_home/20n...</td>\n",
       "      <td>rec.autos</td>\n",
       "      <td>3</td>\n",
       "      <td>e</td>\n",
       "    </tr>\n",
       "    <tr>\n",
       "      <th>8</th>\n",
       "      <td>From: holmes7000@iscsvax.uni.edu\\nSubject: WIn...</td>\n",
       "      <td>/home/yal319/scikit_learn_data/20news_home/20n...</td>\n",
       "      <td>rec.motorcycles</td>\n",
       "      <td>2</td>\n",
       "      <td>w</td>\n",
       "    </tr>\n",
       "    <tr>\n",
       "      <th>9</th>\n",
       "      <td>From: kerr@ux1.cso.uiuc.edu (Stan Kerr)\\nSubje...</td>\n",
       "      <td>/home/yal319/scikit_learn_data/20news_home/20n...</td>\n",
       "      <td>rec.sport.baseball</td>\n",
       "      <td>4</td>\n",
       "      <td>s</td>\n",
       "    </tr>\n",
       "    <tr>\n",
       "      <th>10</th>\n",
       "      <td>From: irwin@cmptrc.lonestar.org (Irwin Arnstei...</td>\n",
       "      <td>/home/yal319/scikit_learn_data/20news_home/20n...</td>\n",
       "      <td>rec.sport.hockey</td>\n",
       "      <td>8</td>\n",
       "      <td>g</td>\n",
       "    </tr>\n",
       "    <tr>\n",
       "      <th>11</th>\n",
       "      <td>From: david@terminus.ericsson.se (David Bold)\\...</td>\n",
       "      <td>/home/yal319/scikit_learn_data/20news_home/20n...</td>\n",
       "      <td>sci.crypt</td>\n",
       "      <td>19</td>\n",
       "      <td>r</td>\n",
       "    </tr>\n",
       "    <tr>\n",
       "      <th>12</th>\n",
       "      <td>From: rodc@fc.hp.com (Rod Cerkoney)\\nSubject: ...</td>\n",
       "      <td>/home/yal319/scikit_learn_data/20news_home/20n...</td>\n",
       "      <td>sci.electronics</td>\n",
       "      <td>4</td>\n",
       "      <td>o</td>\n",
       "    </tr>\n",
       "    <tr>\n",
       "      <th>13</th>\n",
       "      <td>From: dbm0000@tm0006.lerc.nasa.gov (David B. M...</td>\n",
       "      <td>/home/yal319/scikit_learn_data/20news_home/20n...</td>\n",
       "      <td>sci.med</td>\n",
       "      <td>14</td>\n",
       "      <td>u</td>\n",
       "    </tr>\n",
       "    <tr>\n",
       "      <th>14</th>\n",
       "      <td>From: jllee@acsu.buffalo.edu (Johnny L Lee)\\nS...</td>\n",
       "      <td>/home/yal319/scikit_learn_data/20news_home/20n...</td>\n",
       "      <td>sci.space</td>\n",
       "      <td>6</td>\n",
       "      <td>p</td>\n",
       "    </tr>\n",
       "    <tr>\n",
       "      <th>15</th>\n",
       "      <td>From: mathew &lt;mathew@mantis.co.uk&gt;\\nSubject: R...</td>\n",
       "      <td>/home/yal319/scikit_learn_data/20news_home/20n...</td>\n",
       "      <td>soc.religion.christian</td>\n",
       "      <td>0</td>\n",
       "      <td>s</td>\n",
       "    </tr>\n",
       "    <tr>\n",
       "      <th>16</th>\n",
       "      <td>From: ab@nova.cc.purdue.edu (Allen B)\\nSubject...</td>\n",
       "      <td>/home/yal319/scikit_learn_data/20news_home/20n...</td>\n",
       "      <td>talk.politics.guns</td>\n",
       "      <td>1</td>\n",
       "      <td>_</td>\n",
       "    </tr>\n",
       "    <tr>\n",
       "      <th>17</th>\n",
       "      <td>From: CPKJP@vm.cc.latech.edu (Kevin Parker)\\nS...</td>\n",
       "      <td>/home/yal319/scikit_learn_data/20news_home/20n...</td>\n",
       "      <td>talk.politics.mideast</td>\n",
       "      <td>7</td>\n",
       "      <td>d</td>\n",
       "    </tr>\n",
       "    <tr>\n",
       "      <th>18</th>\n",
       "      <td>From: ritley@uimrl7.mrl.uiuc.edu ()\\nSubject: ...</td>\n",
       "      <td>/home/yal319/scikit_learn_data/20news_home/20n...</td>\n",
       "      <td>talk.politics.misc</td>\n",
       "      <td>12</td>\n",
       "      <td>a</td>\n",
       "    </tr>\n",
       "    <tr>\n",
       "      <th>19</th>\n",
       "      <td>From: abarden@tybse1.uucp (Ann Marie Barden)\\n...</td>\n",
       "      <td>/home/yal319/scikit_learn_data/20news_home/20n...</td>\n",
       "      <td>talk.religion.misc</td>\n",
       "      <td>5</td>\n",
       "      <td>t</td>\n",
       "    </tr>\n",
       "  </tbody>\n",
       "</table>\n",
       "</div>"
      ],
      "text/plain": [
       "                                                 data  \\\n",
       "0   From: lerxst@wam.umd.edu (where's my thing)\\nS...   \n",
       "1   From: guykuo@carson.u.washington.edu (Guy Kuo)...   \n",
       "2   From: twillis@ec.ecn.purdue.edu (Thomas E Will...   \n",
       "3   From: jgreen@amber (Joe Green)\\nSubject: Re: W...   \n",
       "4   From: jcm@head-cfa.harvard.edu (Jonathan McDow...   \n",
       "5   From: dfo@vttoulu.tko.vtt.fi (Foxvog Douglas)\\...   \n",
       "6   From: bmdelane@quads.uchicago.edu (brian manni...   \n",
       "7   From: bgrubb@dante.nmsu.edu (GRUBB)\\nSubject: ...   \n",
       "8   From: holmes7000@iscsvax.uni.edu\\nSubject: WIn...   \n",
       "9   From: kerr@ux1.cso.uiuc.edu (Stan Kerr)\\nSubje...   \n",
       "10  From: irwin@cmptrc.lonestar.org (Irwin Arnstei...   \n",
       "11  From: david@terminus.ericsson.se (David Bold)\\...   \n",
       "12  From: rodc@fc.hp.com (Rod Cerkoney)\\nSubject: ...   \n",
       "13  From: dbm0000@tm0006.lerc.nasa.gov (David B. M...   \n",
       "14  From: jllee@acsu.buffalo.edu (Johnny L Lee)\\nS...   \n",
       "15  From: mathew <mathew@mantis.co.uk>\\nSubject: R...   \n",
       "16  From: ab@nova.cc.purdue.edu (Allen B)\\nSubject...   \n",
       "17  From: CPKJP@vm.cc.latech.edu (Kevin Parker)\\nS...   \n",
       "18  From: ritley@uimrl7.mrl.uiuc.edu ()\\nSubject: ...   \n",
       "19  From: abarden@tybse1.uucp (Ann Marie Barden)\\n...   \n",
       "\n",
       "                                            filenames  \\\n",
       "0   /home/yal319/scikit_learn_data/20news_home/20n...   \n",
       "1   /home/yal319/scikit_learn_data/20news_home/20n...   \n",
       "2   /home/yal319/scikit_learn_data/20news_home/20n...   \n",
       "3   /home/yal319/scikit_learn_data/20news_home/20n...   \n",
       "4   /home/yal319/scikit_learn_data/20news_home/20n...   \n",
       "5   /home/yal319/scikit_learn_data/20news_home/20n...   \n",
       "6   /home/yal319/scikit_learn_data/20news_home/20n...   \n",
       "7   /home/yal319/scikit_learn_data/20news_home/20n...   \n",
       "8   /home/yal319/scikit_learn_data/20news_home/20n...   \n",
       "9   /home/yal319/scikit_learn_data/20news_home/20n...   \n",
       "10  /home/yal319/scikit_learn_data/20news_home/20n...   \n",
       "11  /home/yal319/scikit_learn_data/20news_home/20n...   \n",
       "12  /home/yal319/scikit_learn_data/20news_home/20n...   \n",
       "13  /home/yal319/scikit_learn_data/20news_home/20n...   \n",
       "14  /home/yal319/scikit_learn_data/20news_home/20n...   \n",
       "15  /home/yal319/scikit_learn_data/20news_home/20n...   \n",
       "16  /home/yal319/scikit_learn_data/20news_home/20n...   \n",
       "17  /home/yal319/scikit_learn_data/20news_home/20n...   \n",
       "18  /home/yal319/scikit_learn_data/20news_home/20n...   \n",
       "19  /home/yal319/scikit_learn_data/20news_home/20n...   \n",
       "\n",
       "                target_names target DESCR  \n",
       "0                alt.atheism      7     .  \n",
       "1              comp.graphics      4     .  \n",
       "2    comp.os.ms-windows.misc      4        \n",
       "3   comp.sys.ibm.pc.hardware      1     _  \n",
       "4      comp.sys.mac.hardware     14     2  \n",
       "5             comp.windows.x     16     0  \n",
       "6               misc.forsale     13     n  \n",
       "7                  rec.autos      3     e  \n",
       "8            rec.motorcycles      2     w  \n",
       "9         rec.sport.baseball      4     s  \n",
       "10          rec.sport.hockey      8     g  \n",
       "11                 sci.crypt     19     r  \n",
       "12           sci.electronics      4     o  \n",
       "13                   sci.med     14     u  \n",
       "14                 sci.space      6     p  \n",
       "15    soc.religion.christian      0     s  \n",
       "16        talk.politics.guns      1     _  \n",
       "17     talk.politics.mideast      7     d  \n",
       "18        talk.politics.misc     12     a  \n",
       "19        talk.religion.misc      5     t  "
      ]
     },
     "execution_count": 53,
     "metadata": {},
     "output_type": "execute_result"
    }
   ],
   "source": [
    "news_df.head(20)"
   ]
  },
  {
   "cell_type": "code",
   "execution_count": null,
   "metadata": {},
   "outputs": [],
   "source": []
  },
  {
   "cell_type": "code",
   "execution_count": null,
   "metadata": {},
   "outputs": [],
   "source": []
  },
  {
   "cell_type": "code",
   "execution_count": null,
   "metadata": {},
   "outputs": [],
   "source": []
  },
  {
   "cell_type": "code",
   "execution_count": 24,
   "metadata": {},
   "outputs": [],
   "source": [
    "df = pd.read_csv('../model/20news/AutoPhrase.txt',error_bad_lines=False, delimiter= '\\t',names = ['p','phrase'])\n",
    "select = df[df.p >= 0.5]"
   ]
  },
  {
   "cell_type": "code",
   "execution_count": 25,
   "metadata": {},
   "outputs": [],
   "source": [
    "text_for_vect = ' '.join(select.phrase.apply(lambda x: str(x)))"
   ]
  },
  {
   "cell_type": "code",
   "execution_count": null,
   "metadata": {},
   "outputs": [],
   "source": []
  },
  {
   "cell_type": "code",
   "execution_count": 26,
   "metadata": {},
   "outputs": [
    {
     "data": {
      "text/plain": [
       "8144"
      ]
     },
     "execution_count": 26,
     "metadata": {},
     "output_type": "execute_result"
    }
   ],
   "source": [
    "count_vect = CountVectorizer(vocabulary=select.phrase ,stop_words = 'english')\n",
    "count_vect = count_vect.fit([text_for_vect])\n",
    "len(count_vect.vocabulary_)"
   ]
  },
  {
   "cell_type": "code",
   "execution_count": 27,
   "metadata": {},
   "outputs": [],
   "source": [
    "X_count = count_vect.transform(news_df.data)"
   ]
  },
  {
   "cell_type": "code",
   "execution_count": 144,
   "metadata": {},
   "outputs": [
    {
     "name": "stderr",
     "output_type": "stream",
     "text": [
      "/opt/conda/lib/python3.8/site-packages/sklearn/linear_model/_logistic.py:763: ConvergenceWarning: lbfgs failed to converge (status=1):\n",
      "STOP: TOTAL NO. of ITERATIONS REACHED LIMIT.\n",
      "\n",
      "Increase the number of iterations (max_iter) or scale the data as shown in:\n",
      "    https://scikit-learn.org/stable/modules/preprocessing.html\n",
      "Please also refer to the documentation for alternative solver options:\n",
      "    https://scikit-learn.org/stable/modules/linear_model.html#logistic-regression\n",
      "  n_iter_i = _check_optimize_result(\n"
     ]
    }
   ],
   "source": [
    "clf = LogisticRegression(max_iter = 100).fit(X_count,newsgroups_train.target)"
   ]
  },
  {
   "cell_type": "code",
   "execution_count": 145,
   "metadata": {},
   "outputs": [
    {
     "data": {
      "text/plain": [
       "0.778146574614976"
      ]
     },
     "execution_count": 145,
     "metadata": {},
     "output_type": "execute_result"
    }
   ],
   "source": [
    "twenty_test = fetch_20newsgroups(subset='test')\n",
    "docs_test = count_vect.transform(twenty_test.data)\n",
    "predicted = clf.predict(docs_test)\n",
    "np.mean(predicted == twenty_test.target)"
   ]
  },
  {
   "cell_type": "code",
   "execution_count": null,
   "metadata": {},
   "outputs": [],
   "source": []
  },
  {
   "cell_type": "code",
   "execution_count": null,
   "metadata": {},
   "outputs": [],
   "source": []
  },
  {
   "cell_type": "code",
   "execution_count": 149,
   "metadata": {},
   "outputs": [
    {
     "data": {
      "text/plain": [
       "(11314, 8148)"
      ]
     },
     "execution_count": 149,
     "metadata": {},
     "output_type": "execute_result"
    }
   ],
   "source": [
    "tfidf_transformer = TfidfTransformer()\n",
    "X_train_tfidf = tfidf_transformer.fit_transform(X_count)\n",
    "X_train_tfidf.shape"
   ]
  },
  {
   "cell_type": "code",
   "execution_count": 150,
   "metadata": {},
   "outputs": [],
   "source": [
    "clf = LogisticRegression(max_iter = 150).fit(X_train_tfidf,newsgroups_train.target)"
   ]
  },
  {
   "cell_type": "code",
   "execution_count": 151,
   "metadata": {},
   "outputs": [
    {
     "data": {
      "text/plain": [
       "0.8100106213489113"
      ]
     },
     "execution_count": 151,
     "metadata": {},
     "output_type": "execute_result"
    }
   ],
   "source": [
    "twenty_test = fetch_20newsgroups(subset='test')\n",
    "docs_test = count_vect.transform(twenty_test.data)\n",
    "docs_test = tfidf_transformer.transform(docs_test)\n",
    "predicted = clf.predict(docs_test)\n",
    "np.mean(predicted == twenty_test.target)"
   ]
  },
  {
   "cell_type": "code",
   "execution_count": 152,
   "metadata": {},
   "outputs": [
    {
     "name": "stdout",
     "output_type": "stream",
     "text": [
      "                          precision    recall  f1-score   support\n",
      "\n",
      "             alt.atheism       0.74      0.69      0.72       319\n",
      "           comp.graphics       0.71      0.78      0.74       389\n",
      " comp.os.ms-windows.misc       0.74      0.74      0.74       394\n",
      "comp.sys.ibm.pc.hardware       0.67      0.70      0.68       392\n",
      "   comp.sys.mac.hardware       0.80      0.77      0.78       385\n",
      "          comp.windows.x       0.81      0.74      0.77       395\n",
      "            misc.forsale       0.78      0.85      0.81       390\n",
      "               rec.autos       0.88      0.88      0.88       396\n",
      "         rec.motorcycles       0.90      0.93      0.92       398\n",
      "      rec.sport.baseball       0.92      0.90      0.91       397\n",
      "        rec.sport.hockey       0.93      0.96      0.95       399\n",
      "               sci.crypt       0.95      0.89      0.92       396\n",
      "         sci.electronics       0.70      0.73      0.71       393\n",
      "                 sci.med       0.87      0.85      0.86       396\n",
      "               sci.space       0.88      0.90      0.89       394\n",
      "  soc.religion.christian       0.78      0.91      0.84       398\n",
      "      talk.politics.guns       0.69      0.88      0.78       364\n",
      "   talk.politics.mideast       0.96      0.86      0.91       376\n",
      "      talk.politics.misc       0.76      0.56      0.64       310\n",
      "      talk.religion.misc       0.71      0.47      0.56       251\n",
      "\n",
      "                accuracy                           0.81      7532\n",
      "               macro avg       0.81      0.80      0.80      7532\n",
      "            weighted avg       0.81      0.81      0.81      7532\n",
      "\n"
     ]
    }
   ],
   "source": [
    "from sklearn import metrics\n",
    "print(metrics.classification_report(twenty_test.target, predicted,target_names=twenty_test.target_names))"
   ]
  },
  {
   "cell_type": "code",
   "execution_count": 42,
   "metadata": {},
   "outputs": [
    {
     "data": {
      "text/plain": [
       "8144"
      ]
     },
     "execution_count": 42,
     "metadata": {},
     "output_type": "execute_result"
    }
   ],
   "source": [
    "count_vect = CountVectorizer(vocabulary=select.phrase ,stop_words = 'english')\n",
    "count_vect = count_vect.fit([text_for_vect])\n",
    "len(count_vect.vocabulary_)"
   ]
  },
  {
   "cell_type": "code",
   "execution_count": 43,
   "metadata": {},
   "outputs": [],
   "source": [
    "X_count = count_vect.transform(tar_0.data)"
   ]
  },
  {
   "cell_type": "code",
   "execution_count": 52,
   "metadata": {},
   "outputs": [
    {
     "data": {
      "text/plain": [
       "array([  48,  599,   51,  152,   44,  112,   63,   80,   64,  141,   49,\n",
       "         55,   33,  161,   45,   44,   77,  115,   19,   47,   86,   92,\n",
       "         83,   64,   40,   45,   30,   71,   85,  156,  167,   41,  207,\n",
       "         30,  131,   50,   39,   95,   29,   90,  200,  231,   79,    9,\n",
       "         62,   65,   90,  263,   61,   65,  147,   84,  197,   70,   56,\n",
       "        128,   53,  124,   25,  143,   52,   30,   84,   91,  219,   34,\n",
       "         67,  119,  143,  255,  111,   19,  764,   54,   83,   30,  107,\n",
       "         62,   57,  122,   52,  104,   88,   42,   88,  128,  192,   88,\n",
       "        105,   53,  107,  103,   32,   96,  293,   82,  128,  216,   27,\n",
       "         67,   25,   57,   53,   40,   91,   42,   19,   89,   78,   42,\n",
       "         70,   69,   50,   40,   45,  119,   95,   48,   40,   43,  107,\n",
       "         44,   48,  101,  269,   29,   62,   77,   31,  116,  127,   12,\n",
       "         41,   49,   64,   27,  101,   70,   45,   55,   24,   59,   44,\n",
       "        384,   50,  107,   50,   63,  151,  133,  140,   61,   77,   49,\n",
       "         74,  142,   74,   89,   54,   41,   26,   50,   59,  115,   48,\n",
       "         64,   12,   96,   63,   73,  103,   56,   48,   64,   33,  437,\n",
       "         57,   52,  145,   44,  196,  103,   25,   45,   42,   42,   69,\n",
       "         38,  128,  388,   11,  146,   34,   59,   34,   58,   49,   62,\n",
       "         79,   71,   65,   70,  117,  426,  113,   11,   66,   98,   96,\n",
       "        181,   27,   66,  114,  116,   80,   67,   39,   35,   60,   90,\n",
       "        100,   67,  133,  108,  179,   75,   79,   53,   52,  753,  103,\n",
       "         92,   87,   68,   93,   21,  104,   89,   24,  137,  160,   36,\n",
       "        102,   65,  113,  261,   61,   71,   86,  116,   68,   82,  158,\n",
       "         84,   60,  147,  108,   30,   72,   68,  116,   39,  106,   33,\n",
       "        110,  182,   37,  115,   90,   78,   27,   53,   55,  137,   31,\n",
       "        186,  166,   92,   56,  112,   53,  138,   38,   44,   24,   74,\n",
       "         24,   37,   78,   63,  130,   43,   35,  166,  165,  106,  224,\n",
       "         27,  102,   41,   61,  327,  133,   26,   74,  135,  248,   65,\n",
       "         75,   26,  129,   30,   40,  203,  135,  101,   69,  188, 1688,\n",
       "         49,   84,   37,   81,   97,  289,   31,  150,  317,   63,   24,\n",
       "        141,   63,   23,   40,   69,   67,   72,   79,   26,   21,   70,\n",
       "        127,   43,   46,  237,  114,   78,   63,  187,   52,   60,   95,\n",
       "         45,   74,   38,  124,  123,  147,   71,   46,   48,   41,   43,\n",
       "         40,   14,   97,   74,   83,   20,   66,   60,   34,   53,   46,\n",
       "         42,   18,   27,  117,   98,   40,   62,   42,   94,  109,   93,\n",
       "         74,  155,   40,   12,   21,   58,   97,  115,   38,   38,   95,\n",
       "         25,   22,   66,   49,   98,   33,  110,   44,  129,   94,   42,\n",
       "        130,  177,   53,   31,   94,  106,  135,  100,   91,  107,   71,\n",
       "         70,  130,  108,   36,   43,   77,   36,   47,   77,   88,   64,\n",
       "         12,  130,   60,  108,  134,   51,   21,  191,   51,   89,   47,\n",
       "         67,   73,   70,   25,   45,   75,   66,   96,   21,   49,  137,\n",
       "         65,   39,   58,   82,   39,   91,  133,   82,   68,   35,   76,\n",
       "         38,   69,  174,  182,  105,   61,  119,   24,   75,  223,   35,\n",
       "         64,   70,  113,   30,   88,  201,   76,   78,   48,   57,   91,\n",
       "        134,   91,   40,   77,   25,   53,   62,   91,   73,   48,  122,\n",
       "         61,  127,   61,   60,   42,  106,   77,  152,  121,   62,   35,\n",
       "        121,  143,   57,   74,   82,  123,   68,   76,   59,  123,   85,\n",
       "        140,   41,   27,  102,  129,  137,   66,   82,   31,   61,   43,\n",
       "         19,   86,  105,   41,   47,   71,   17,   63,   61,   64,   91,\n",
       "         30,   78,   65,   46,   98,   28,  104,  103,   45,   44,  112,\n",
       "         69,   62,  148,   32,  120,   25,  100,   39,   24,   79,   59,\n",
       "         47,   79,   35,  116,   18,   52,   67,   24,   43,  229,   71,\n",
       "         46,   84,   85,   85,   84,  112,  113,   53,   97,  102,  176,\n",
       "        157,  162,  105,   63,  101,  175,  124,  156,   95,   80,  129])"
      ]
     },
     "execution_count": 52,
     "metadata": {},
     "output_type": "execute_result"
    }
   ],
   "source": [
    "X_count.toarray().sum(axis = 1)"
   ]
  },
  {
   "cell_type": "code",
   "execution_count": null,
   "metadata": {},
   "outputs": [],
   "source": []
  },
  {
   "cell_type": "code",
   "execution_count": 54,
   "metadata": {},
   "outputs": [
    {
     "data": {
      "text/html": [
       "<div>\n",
       "<style scoped>\n",
       "    .dataframe tbody tr th:only-of-type {\n",
       "        vertical-align: middle;\n",
       "    }\n",
       "\n",
       "    .dataframe tbody tr th {\n",
       "        vertical-align: top;\n",
       "    }\n",
       "\n",
       "    .dataframe thead th {\n",
       "        text-align: right;\n",
       "    }\n",
       "</style>\n",
       "<table border=\"1\" class=\"dataframe\">\n",
       "  <thead>\n",
       "    <tr style=\"text-align: right;\">\n",
       "      <th></th>\n",
       "      <th>data</th>\n",
       "      <th>filenames</th>\n",
       "      <th>target_names</th>\n",
       "      <th>target</th>\n",
       "      <th>DESCR</th>\n",
       "    </tr>\n",
       "  </thead>\n",
       "  <tbody>\n",
       "    <tr>\n",
       "      <th>0</th>\n",
       "      <td>From: lerxst@wam.umd.edu (where's my thing)\\nS...</td>\n",
       "      <td>/home/yal319/scikit_learn_data/20news_home/20n...</td>\n",
       "      <td>alt.atheism</td>\n",
       "      <td>7</td>\n",
       "      <td>.</td>\n",
       "    </tr>\n",
       "    <tr>\n",
       "      <th>1</th>\n",
       "      <td>From: guykuo@carson.u.washington.edu (Guy Kuo)...</td>\n",
       "      <td>/home/yal319/scikit_learn_data/20news_home/20n...</td>\n",
       "      <td>comp.graphics</td>\n",
       "      <td>4</td>\n",
       "      <td>.</td>\n",
       "    </tr>\n",
       "    <tr>\n",
       "      <th>2</th>\n",
       "      <td>From: twillis@ec.ecn.purdue.edu (Thomas E Will...</td>\n",
       "      <td>/home/yal319/scikit_learn_data/20news_home/20n...</td>\n",
       "      <td>comp.os.ms-windows.misc</td>\n",
       "      <td>4</td>\n",
       "      <td></td>\n",
       "    </tr>\n",
       "    <tr>\n",
       "      <th>3</th>\n",
       "      <td>From: jgreen@amber (Joe Green)\\nSubject: Re: W...</td>\n",
       "      <td>/home/yal319/scikit_learn_data/20news_home/20n...</td>\n",
       "      <td>comp.sys.ibm.pc.hardware</td>\n",
       "      <td>1</td>\n",
       "      <td>_</td>\n",
       "    </tr>\n",
       "    <tr>\n",
       "      <th>4</th>\n",
       "      <td>From: jcm@head-cfa.harvard.edu (Jonathan McDow...</td>\n",
       "      <td>/home/yal319/scikit_learn_data/20news_home/20n...</td>\n",
       "      <td>comp.sys.mac.hardware</td>\n",
       "      <td>14</td>\n",
       "      <td>2</td>\n",
       "    </tr>\n",
       "    <tr>\n",
       "      <th>...</th>\n",
       "      <td>...</td>\n",
       "      <td>...</td>\n",
       "      <td>...</td>\n",
       "      <td>...</td>\n",
       "      <td>...</td>\n",
       "    </tr>\n",
       "    <tr>\n",
       "      <th>11309</th>\n",
       "      <td>From: jim.zisfein@factory.com (Jim Zisfein) \\n...</td>\n",
       "      <td>/home/yal319/scikit_learn_data/20news_home/20n...</td>\n",
       "      <td>None</td>\n",
       "      <td>13</td>\n",
       "      <td>None</td>\n",
       "    </tr>\n",
       "    <tr>\n",
       "      <th>11310</th>\n",
       "      <td>From: ebodin@pearl.tufts.edu\\nSubject: Screen ...</td>\n",
       "      <td>/home/yal319/scikit_learn_data/20news_home/20n...</td>\n",
       "      <td>None</td>\n",
       "      <td>4</td>\n",
       "      <td>None</td>\n",
       "    </tr>\n",
       "    <tr>\n",
       "      <th>11311</th>\n",
       "      <td>From: westes@netcom.com (Will Estes)\\nSubject:...</td>\n",
       "      <td>/home/yal319/scikit_learn_data/20news_home/20n...</td>\n",
       "      <td>None</td>\n",
       "      <td>3</td>\n",
       "      <td>None</td>\n",
       "    </tr>\n",
       "    <tr>\n",
       "      <th>11312</th>\n",
       "      <td>From: steve@hcrlgw (Steven Collins)\\nSubject: ...</td>\n",
       "      <td>/home/yal319/scikit_learn_data/20news_home/20n...</td>\n",
       "      <td>None</td>\n",
       "      <td>1</td>\n",
       "      <td>None</td>\n",
       "    </tr>\n",
       "    <tr>\n",
       "      <th>11313</th>\n",
       "      <td>From: gunning@cco.caltech.edu (Kevin J. Gunnin...</td>\n",
       "      <td>/home/yal319/scikit_learn_data/20news_home/20n...</td>\n",
       "      <td>None</td>\n",
       "      <td>8</td>\n",
       "      <td>None</td>\n",
       "    </tr>\n",
       "  </tbody>\n",
       "</table>\n",
       "<p>11314 rows × 5 columns</p>\n",
       "</div>"
      ],
      "text/plain": [
       "                                                    data  \\\n",
       "0      From: lerxst@wam.umd.edu (where's my thing)\\nS...   \n",
       "1      From: guykuo@carson.u.washington.edu (Guy Kuo)...   \n",
       "2      From: twillis@ec.ecn.purdue.edu (Thomas E Will...   \n",
       "3      From: jgreen@amber (Joe Green)\\nSubject: Re: W...   \n",
       "4      From: jcm@head-cfa.harvard.edu (Jonathan McDow...   \n",
       "...                                                  ...   \n",
       "11309  From: jim.zisfein@factory.com (Jim Zisfein) \\n...   \n",
       "11310  From: ebodin@pearl.tufts.edu\\nSubject: Screen ...   \n",
       "11311  From: westes@netcom.com (Will Estes)\\nSubject:...   \n",
       "11312  From: steve@hcrlgw (Steven Collins)\\nSubject: ...   \n",
       "11313  From: gunning@cco.caltech.edu (Kevin J. Gunnin...   \n",
       "\n",
       "                                               filenames  \\\n",
       "0      /home/yal319/scikit_learn_data/20news_home/20n...   \n",
       "1      /home/yal319/scikit_learn_data/20news_home/20n...   \n",
       "2      /home/yal319/scikit_learn_data/20news_home/20n...   \n",
       "3      /home/yal319/scikit_learn_data/20news_home/20n...   \n",
       "4      /home/yal319/scikit_learn_data/20news_home/20n...   \n",
       "...                                                  ...   \n",
       "11309  /home/yal319/scikit_learn_data/20news_home/20n...   \n",
       "11310  /home/yal319/scikit_learn_data/20news_home/20n...   \n",
       "11311  /home/yal319/scikit_learn_data/20news_home/20n...   \n",
       "11312  /home/yal319/scikit_learn_data/20news_home/20n...   \n",
       "11313  /home/yal319/scikit_learn_data/20news_home/20n...   \n",
       "\n",
       "                   target_names target DESCR  \n",
       "0                   alt.atheism      7     .  \n",
       "1                 comp.graphics      4     .  \n",
       "2       comp.os.ms-windows.misc      4        \n",
       "3      comp.sys.ibm.pc.hardware      1     _  \n",
       "4         comp.sys.mac.hardware     14     2  \n",
       "...                         ...    ...   ...  \n",
       "11309                      None     13  None  \n",
       "11310                      None      4  None  \n",
       "11311                      None      3  None  \n",
       "11312                      None      1  None  \n",
       "11313                      None      8  None  \n",
       "\n",
       "[11314 rows x 5 columns]"
      ]
     },
     "execution_count": 54,
     "metadata": {},
     "output_type": "execute_result"
    }
   ],
   "source": [
    "news_df"
   ]
  },
  {
   "cell_type": "code",
   "execution_count": null,
   "metadata": {},
   "outputs": [],
   "source": []
  },
  {
   "cell_type": "code",
   "execution_count": 163,
   "metadata": {},
   "outputs": [],
   "source": [
    "from sklearn.neural_network import MLPClassifier"
   ]
  },
  {
   "cell_type": "code",
   "execution_count": 169,
   "metadata": {},
   "outputs": [
    {
     "name": "stdout",
     "output_type": "stream",
     "text": [
      "CPU times: user 19min 58s, sys: 2h 59min 27s, total: 3h 19min 25s\n",
      "Wall time: 26min 3s\n"
     ]
    },
    {
     "name": "stderr",
     "output_type": "stream",
     "text": [
      "/opt/conda/lib/python3.8/site-packages/sklearn/neural_network/_multilayer_perceptron.py:619: UserWarning: Training interrupted by user.\n",
      "  warnings.warn(\"Training interrupted by user.\")\n"
     ]
    }
   ],
   "source": [
    "%%time\n",
    "clf = MLPClassifier(random_state=1, max_iter=100).fit(X_train_tfidf,newsgroups_train.target)"
   ]
  },
  {
   "cell_type": "code",
   "execution_count": 171,
   "metadata": {},
   "outputs": [
    {
     "data": {
      "text/plain": [
       "0.8193043016463091"
      ]
     },
     "execution_count": 171,
     "metadata": {},
     "output_type": "execute_result"
    }
   ],
   "source": [
    "twenty_test = fetch_20newsgroups(subset='test')\n",
    "docs_test = count_vect.transform(twenty_test.data)\n",
    "docs_test = tfidf_transformer.transform(docs_test)\n",
    "predicted = clf.predict(docs_test)\n",
    "np.mean(predicted == twenty_test.target)"
   ]
  },
  {
   "cell_type": "code",
   "execution_count": null,
   "metadata": {},
   "outputs": [],
   "source": []
  }
 ],
 "metadata": {
  "kernelspec": {
   "display_name": "Python 3",
   "language": "python",
   "name": "python3"
  },
  "language_info": {
   "codemirror_mode": {
    "name": "ipython",
    "version": 3
   },
   "file_extension": ".py",
   "mimetype": "text/x-python",
   "name": "python",
   "nbconvert_exporter": "python",
   "pygments_lexer": "ipython3",
   "version": "3.8.6"
  }
 },
 "nbformat": 4,
 "nbformat_minor": 4
}
